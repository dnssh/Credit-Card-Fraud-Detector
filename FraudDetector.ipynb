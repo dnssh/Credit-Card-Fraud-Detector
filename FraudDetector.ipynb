{
  "nbformat": 4,
  "nbformat_minor": 0,
  "metadata": {
    "colab": {
      "name": "Copy of Capital1Final.ipynb",
      "provenance": [],
      "collapsed_sections": []
    },
    "kernelspec": {
      "display_name": "Python 3",
      "name": "python3"
    }
  },
  "cells": [
    {
      "cell_type": "markdown",
      "metadata": {
        "id": "alu2fQ14CqGB"
      },
      "source": [
        "# Credit Card Fraud Detector\r\n",
        "\r\n",
        "\r\n"
      ]
    },
    {
      "cell_type": "code",
      "metadata": {
        "id": "SVuZ2ulD8xLh"
      },
      "source": [
        "import pandas as pd\r\n",
        "import numpy as np    \r\n",
        "import os\r\n",
        "from ctypes import cdll\r\n",
        "\r\n",
        "import seaborn as sns\r\n",
        "import matplotlib.pyplot as plt "
      ],
      "execution_count": null,
      "outputs": []
    },
    {
      "cell_type": "markdown",
      "metadata": {
        "id": "hsaXKslm97PP"
      },
      "source": [
        "# `1. Load the Dataset`\r\n",
        "\r\n",
        "\r\n"
      ]
    },
    {
      "cell_type": "code",
      "metadata": {
        "id": "xfiqXL4184v7"
      },
      "source": [
        "#pd.set_option('display.max_columns', None)\r\n",
        "data = pd.read_json('/content/drive/MyDrive/capital1/transactions/transactions.txt', lines='True')"
      ],
      "execution_count": null,
      "outputs": []
    },
    {
      "cell_type": "markdown",
      "metadata": {
        "id": "6ZCb3ag0-Ueb"
      },
      "source": [
        "## Exploratory Data analysis"
      ]
    },
    {
      "cell_type": "code",
      "metadata": {
        "id": "BKrhggDrBIQQ",
        "colab": {
          "base_uri": "https://localhost:8080/",
          "height": 234
        },
        "outputId": "d3fa0a41-ed66-4af3-ccbf-f3b0e050090a"
      },
      "source": [
        "data.head()"
      ],
      "execution_count": null,
      "outputs": [
        {
          "output_type": "execute_result",
          "data": {
            "text/html": [
              "<div>\n",
              "<style scoped>\n",
              "    .dataframe tbody tr th:only-of-type {\n",
              "        vertical-align: middle;\n",
              "    }\n",
              "\n",
              "    .dataframe tbody tr th {\n",
              "        vertical-align: top;\n",
              "    }\n",
              "\n",
              "    .dataframe thead th {\n",
              "        text-align: right;\n",
              "    }\n",
              "</style>\n",
              "<table border=\"1\" class=\"dataframe\">\n",
              "  <thead>\n",
              "    <tr style=\"text-align: right;\">\n",
              "      <th></th>\n",
              "      <th>accountNumber</th>\n",
              "      <th>customerId</th>\n",
              "      <th>creditLimit</th>\n",
              "      <th>availableMoney</th>\n",
              "      <th>transactionDateTime</th>\n",
              "      <th>transactionAmount</th>\n",
              "      <th>merchantName</th>\n",
              "      <th>acqCountry</th>\n",
              "      <th>merchantCountryCode</th>\n",
              "      <th>posEntryMode</th>\n",
              "      <th>posConditionCode</th>\n",
              "      <th>merchantCategoryCode</th>\n",
              "      <th>currentExpDate</th>\n",
              "      <th>accountOpenDate</th>\n",
              "      <th>dateOfLastAddressChange</th>\n",
              "      <th>cardCVV</th>\n",
              "      <th>enteredCVV</th>\n",
              "      <th>cardLast4Digits</th>\n",
              "      <th>transactionType</th>\n",
              "      <th>echoBuffer</th>\n",
              "      <th>currentBalance</th>\n",
              "      <th>merchantCity</th>\n",
              "      <th>merchantState</th>\n",
              "      <th>merchantZip</th>\n",
              "      <th>cardPresent</th>\n",
              "      <th>posOnPremises</th>\n",
              "      <th>recurringAuthInd</th>\n",
              "      <th>expirationDateKeyInMatch</th>\n",
              "      <th>isFraud</th>\n",
              "    </tr>\n",
              "  </thead>\n",
              "  <tbody>\n",
              "    <tr>\n",
              "      <th>0</th>\n",
              "      <td>737265056</td>\n",
              "      <td>737265056</td>\n",
              "      <td>5000</td>\n",
              "      <td>5000.0</td>\n",
              "      <td>2016-08-13T14:27:32</td>\n",
              "      <td>98.55</td>\n",
              "      <td>Uber</td>\n",
              "      <td>US</td>\n",
              "      <td>US</td>\n",
              "      <td>02</td>\n",
              "      <td>01</td>\n",
              "      <td>rideshare</td>\n",
              "      <td>06/2023</td>\n",
              "      <td>2015-03-14</td>\n",
              "      <td>2015-03-14</td>\n",
              "      <td>414</td>\n",
              "      <td>414</td>\n",
              "      <td>1803</td>\n",
              "      <td>PURCHASE</td>\n",
              "      <td></td>\n",
              "      <td>0.0</td>\n",
              "      <td></td>\n",
              "      <td></td>\n",
              "      <td></td>\n",
              "      <td>False</td>\n",
              "      <td></td>\n",
              "      <td></td>\n",
              "      <td>False</td>\n",
              "      <td>False</td>\n",
              "    </tr>\n",
              "    <tr>\n",
              "      <th>1</th>\n",
              "      <td>737265056</td>\n",
              "      <td>737265056</td>\n",
              "      <td>5000</td>\n",
              "      <td>5000.0</td>\n",
              "      <td>2016-10-11T05:05:54</td>\n",
              "      <td>74.51</td>\n",
              "      <td>AMC #191138</td>\n",
              "      <td>US</td>\n",
              "      <td>US</td>\n",
              "      <td>09</td>\n",
              "      <td>01</td>\n",
              "      <td>entertainment</td>\n",
              "      <td>02/2024</td>\n",
              "      <td>2015-03-14</td>\n",
              "      <td>2015-03-14</td>\n",
              "      <td>486</td>\n",
              "      <td>486</td>\n",
              "      <td>767</td>\n",
              "      <td>PURCHASE</td>\n",
              "      <td></td>\n",
              "      <td>0.0</td>\n",
              "      <td></td>\n",
              "      <td></td>\n",
              "      <td></td>\n",
              "      <td>True</td>\n",
              "      <td></td>\n",
              "      <td></td>\n",
              "      <td>False</td>\n",
              "      <td>False</td>\n",
              "    </tr>\n",
              "    <tr>\n",
              "      <th>2</th>\n",
              "      <td>737265056</td>\n",
              "      <td>737265056</td>\n",
              "      <td>5000</td>\n",
              "      <td>5000.0</td>\n",
              "      <td>2016-11-08T09:18:39</td>\n",
              "      <td>7.47</td>\n",
              "      <td>Play Store</td>\n",
              "      <td>US</td>\n",
              "      <td>US</td>\n",
              "      <td>09</td>\n",
              "      <td>01</td>\n",
              "      <td>mobileapps</td>\n",
              "      <td>08/2025</td>\n",
              "      <td>2015-03-14</td>\n",
              "      <td>2015-03-14</td>\n",
              "      <td>486</td>\n",
              "      <td>486</td>\n",
              "      <td>767</td>\n",
              "      <td>PURCHASE</td>\n",
              "      <td></td>\n",
              "      <td>0.0</td>\n",
              "      <td></td>\n",
              "      <td></td>\n",
              "      <td></td>\n",
              "      <td>False</td>\n",
              "      <td></td>\n",
              "      <td></td>\n",
              "      <td>False</td>\n",
              "      <td>False</td>\n",
              "    </tr>\n",
              "    <tr>\n",
              "      <th>3</th>\n",
              "      <td>737265056</td>\n",
              "      <td>737265056</td>\n",
              "      <td>5000</td>\n",
              "      <td>5000.0</td>\n",
              "      <td>2016-12-10T02:14:50</td>\n",
              "      <td>7.47</td>\n",
              "      <td>Play Store</td>\n",
              "      <td>US</td>\n",
              "      <td>US</td>\n",
              "      <td>09</td>\n",
              "      <td>01</td>\n",
              "      <td>mobileapps</td>\n",
              "      <td>08/2025</td>\n",
              "      <td>2015-03-14</td>\n",
              "      <td>2015-03-14</td>\n",
              "      <td>486</td>\n",
              "      <td>486</td>\n",
              "      <td>767</td>\n",
              "      <td>PURCHASE</td>\n",
              "      <td></td>\n",
              "      <td>0.0</td>\n",
              "      <td></td>\n",
              "      <td></td>\n",
              "      <td></td>\n",
              "      <td>False</td>\n",
              "      <td></td>\n",
              "      <td></td>\n",
              "      <td>False</td>\n",
              "      <td>False</td>\n",
              "    </tr>\n",
              "    <tr>\n",
              "      <th>4</th>\n",
              "      <td>830329091</td>\n",
              "      <td>830329091</td>\n",
              "      <td>5000</td>\n",
              "      <td>5000.0</td>\n",
              "      <td>2016-03-24T21:04:46</td>\n",
              "      <td>71.18</td>\n",
              "      <td>Tim Hortons #947751</td>\n",
              "      <td>US</td>\n",
              "      <td>US</td>\n",
              "      <td>02</td>\n",
              "      <td>01</td>\n",
              "      <td>fastfood</td>\n",
              "      <td>10/2029</td>\n",
              "      <td>2015-08-06</td>\n",
              "      <td>2015-08-06</td>\n",
              "      <td>885</td>\n",
              "      <td>885</td>\n",
              "      <td>3143</td>\n",
              "      <td>PURCHASE</td>\n",
              "      <td></td>\n",
              "      <td>0.0</td>\n",
              "      <td></td>\n",
              "      <td></td>\n",
              "      <td></td>\n",
              "      <td>True</td>\n",
              "      <td></td>\n",
              "      <td></td>\n",
              "      <td>False</td>\n",
              "      <td>False</td>\n",
              "    </tr>\n",
              "  </tbody>\n",
              "</table>\n",
              "</div>"
            ],
            "text/plain": [
              "   accountNumber  customerId  ...  expirationDateKeyInMatch  isFraud\n",
              "0      737265056   737265056  ...                     False    False\n",
              "1      737265056   737265056  ...                     False    False\n",
              "2      737265056   737265056  ...                     False    False\n",
              "3      737265056   737265056  ...                     False    False\n",
              "4      830329091   830329091  ...                     False    False\n",
              "\n",
              "[5 rows x 29 columns]"
            ]
          },
          "metadata": {
            "tags": []
          },
          "execution_count": 3
        }
      ]
    },
    {
      "cell_type": "code",
      "metadata": {
        "id": "krhQ_gSe-Ttu",
        "colab": {
          "base_uri": "https://localhost:8080/"
        },
        "outputId": "2a0f0f85-0a5b-4c48-edb4-e5afb667b655"
      },
      "source": [
        "data.info()"
      ],
      "execution_count": null,
      "outputs": [
        {
          "output_type": "stream",
          "text": [
            "<class 'pandas.core.frame.DataFrame'>\n",
            "RangeIndex: 786363 entries, 0 to 786362\n",
            "Data columns (total 29 columns):\n",
            " #   Column                    Non-Null Count   Dtype  \n",
            "---  ------                    --------------   -----  \n",
            " 0   accountNumber             786363 non-null  int64  \n",
            " 1   customerId                786363 non-null  int64  \n",
            " 2   creditLimit               786363 non-null  int64  \n",
            " 3   availableMoney            786363 non-null  float64\n",
            " 4   transactionDateTime       786363 non-null  object \n",
            " 5   transactionAmount         786363 non-null  float64\n",
            " 6   merchantName              786363 non-null  object \n",
            " 7   acqCountry                786363 non-null  object \n",
            " 8   merchantCountryCode       786363 non-null  object \n",
            " 9   posEntryMode              786363 non-null  object \n",
            " 10  posConditionCode          786363 non-null  object \n",
            " 11  merchantCategoryCode      786363 non-null  object \n",
            " 12  currentExpDate            786363 non-null  object \n",
            " 13  accountOpenDate           786363 non-null  object \n",
            " 14  dateOfLastAddressChange   786363 non-null  object \n",
            " 15  cardCVV                   786363 non-null  int64  \n",
            " 16  enteredCVV                786363 non-null  int64  \n",
            " 17  cardLast4Digits           786363 non-null  int64  \n",
            " 18  transactionType           786363 non-null  object \n",
            " 19  echoBuffer                786363 non-null  object \n",
            " 20  currentBalance            786363 non-null  float64\n",
            " 21  merchantCity              786363 non-null  object \n",
            " 22  merchantState             786363 non-null  object \n",
            " 23  merchantZip               786363 non-null  object \n",
            " 24  cardPresent               786363 non-null  bool   \n",
            " 25  posOnPremises             786363 non-null  object \n",
            " 26  recurringAuthInd          786363 non-null  object \n",
            " 27  expirationDateKeyInMatch  786363 non-null  bool   \n",
            " 28  isFraud                   786363 non-null  bool   \n",
            "dtypes: bool(3), float64(3), int64(6), object(17)\n",
            "memory usage: 158.2+ MB\n"
          ],
          "name": "stdout"
        }
      ]
    },
    {
      "cell_type": "code",
      "metadata": {
        "id": "tAjJIP0hUaAw",
        "colab": {
          "base_uri": "https://localhost:8080/"
        },
        "outputId": "02ad71d3-6909-4f40-cb85-758aecc1a508"
      },
      "source": [
        "data.shape"
      ],
      "execution_count": null,
      "outputs": [
        {
          "output_type": "execute_result",
          "data": {
            "text/plain": [
              "(786363, 29)"
            ]
          },
          "metadata": {
            "tags": []
          },
          "execution_count": 5
        }
      ]
    },
    {
      "cell_type": "markdown",
      "metadata": {
        "id": "WMupP6dFAleJ"
      },
      "source": [
        "Check the outlier values i.e. The minimum and the maximum values"
      ]
    },
    {
      "cell_type": "code",
      "metadata": {
        "id": "tNuI3JCJbpIm",
        "colab": {
          "base_uri": "https://localhost:8080/"
        },
        "outputId": "1f15ad2c-c6c7-4f7c-98d1-5cd139751d86"
      },
      "source": [
        "data.max()"
      ],
      "execution_count": null,
      "outputs": [
        {
          "output_type": "execute_result",
          "data": {
            "text/plain": [
              "accountNumber                         999389635\n",
              "customerId                            999389635\n",
              "creditLimit                               50000\n",
              "availableMoney                            50000\n",
              "transactionDateTime         2016-12-30T23:59:45\n",
              "transactionAmount                       2011.54\n",
              "merchantName                 williamssonoma.com\n",
              "acqCountry                                   US\n",
              "merchantCountryCode                          US\n",
              "posEntryMode                                 90\n",
              "posConditionCode                             99\n",
              "merchantCategoryCode              subscriptions\n",
              "currentExpDate                          12/2032\n",
              "accountOpenDate                      2015-12-31\n",
              "dateOfLastAddressChange              2016-12-30\n",
              "cardCVV                                     998\n",
              "enteredCVV                                  998\n",
              "cardLast4Digits                            9998\n",
              "transactionType                        REVERSAL\n",
              "echoBuffer                                     \n",
              "currentBalance                          47498.8\n",
              "merchantCity                                   \n",
              "merchantState                                  \n",
              "merchantZip                                    \n",
              "cardPresent                                True\n",
              "posOnPremises                                  \n",
              "recurringAuthInd                               \n",
              "expirationDateKeyInMatch                   True\n",
              "isFraud                                    True\n",
              "dtype: object"
            ]
          },
          "metadata": {
            "tags": []
          },
          "execution_count": 6
        }
      ]
    },
    {
      "cell_type": "code",
      "metadata": {
        "id": "m_r4JE88aWp8",
        "colab": {
          "base_uri": "https://localhost:8080/"
        },
        "outputId": "97aee96f-3c5a-4718-fe20-9c359ab3ed46"
      },
      "source": [
        "data.min()"
      ],
      "execution_count": null,
      "outputs": [
        {
          "output_type": "execute_result",
          "data": {
            "text/plain": [
              "accountNumber                         100088067\n",
              "customerId                            100088067\n",
              "creditLimit                                 250\n",
              "availableMoney                         -1005.63\n",
              "transactionDateTime         2016-01-01T00:01:02\n",
              "transactionAmount                             0\n",
              "merchantName                            1st BBQ\n",
              "acqCountry                                     \n",
              "merchantCountryCode                            \n",
              "posEntryMode                                   \n",
              "posConditionCode                               \n",
              "merchantCategoryCode                    airline\n",
              "currentExpDate                          01/2020\n",
              "accountOpenDate                      1989-08-22\n",
              "dateOfLastAddressChange              1989-08-22\n",
              "cardCVV                                     100\n",
              "enteredCVV                                    0\n",
              "cardLast4Digits                               0\n",
              "transactionType                                \n",
              "echoBuffer                                     \n",
              "currentBalance                                0\n",
              "merchantCity                                   \n",
              "merchantState                                  \n",
              "merchantZip                                    \n",
              "cardPresent                               False\n",
              "posOnPremises                                  \n",
              "recurringAuthInd                               \n",
              "expirationDateKeyInMatch                  False\n",
              "isFraud                                   False\n",
              "dtype: object"
            ]
          },
          "metadata": {
            "tags": []
          },
          "execution_count": 7
        }
      ]
    },
    {
      "cell_type": "code",
      "metadata": {
        "id": "A9zvheKsBKs0",
        "colab": {
          "base_uri": "https://localhost:8080/",
          "height": 287
        },
        "outputId": "91e8ee8a-3b6a-4923-f7b4-49108f6fb1bb"
      },
      "source": [
        "data.describe()"
      ],
      "execution_count": null,
      "outputs": [
        {
          "output_type": "execute_result",
          "data": {
            "text/html": [
              "<div>\n",
              "<style scoped>\n",
              "    .dataframe tbody tr th:only-of-type {\n",
              "        vertical-align: middle;\n",
              "    }\n",
              "\n",
              "    .dataframe tbody tr th {\n",
              "        vertical-align: top;\n",
              "    }\n",
              "\n",
              "    .dataframe thead th {\n",
              "        text-align: right;\n",
              "    }\n",
              "</style>\n",
              "<table border=\"1\" class=\"dataframe\">\n",
              "  <thead>\n",
              "    <tr style=\"text-align: right;\">\n",
              "      <th></th>\n",
              "      <th>accountNumber</th>\n",
              "      <th>customerId</th>\n",
              "      <th>creditLimit</th>\n",
              "      <th>availableMoney</th>\n",
              "      <th>transactionAmount</th>\n",
              "      <th>cardCVV</th>\n",
              "      <th>enteredCVV</th>\n",
              "      <th>cardLast4Digits</th>\n",
              "      <th>currentBalance</th>\n",
              "    </tr>\n",
              "  </thead>\n",
              "  <tbody>\n",
              "    <tr>\n",
              "      <th>count</th>\n",
              "      <td>7.863630e+05</td>\n",
              "      <td>7.863630e+05</td>\n",
              "      <td>786363.000000</td>\n",
              "      <td>786363.000000</td>\n",
              "      <td>786363.000000</td>\n",
              "      <td>786363.000000</td>\n",
              "      <td>786363.000000</td>\n",
              "      <td>786363.000000</td>\n",
              "      <td>786363.000000</td>\n",
              "    </tr>\n",
              "    <tr>\n",
              "      <th>mean</th>\n",
              "      <td>5.372326e+08</td>\n",
              "      <td>5.372326e+08</td>\n",
              "      <td>10759.464459</td>\n",
              "      <td>6250.725369</td>\n",
              "      <td>136.985791</td>\n",
              "      <td>544.467338</td>\n",
              "      <td>544.183857</td>\n",
              "      <td>4757.417799</td>\n",
              "      <td>4508.739089</td>\n",
              "    </tr>\n",
              "    <tr>\n",
              "      <th>std</th>\n",
              "      <td>2.554211e+08</td>\n",
              "      <td>2.554211e+08</td>\n",
              "      <td>11636.174890</td>\n",
              "      <td>8880.783989</td>\n",
              "      <td>147.725569</td>\n",
              "      <td>261.524220</td>\n",
              "      <td>261.551254</td>\n",
              "      <td>2996.583810</td>\n",
              "      <td>6457.442068</td>\n",
              "    </tr>\n",
              "    <tr>\n",
              "      <th>min</th>\n",
              "      <td>1.000881e+08</td>\n",
              "      <td>1.000881e+08</td>\n",
              "      <td>250.000000</td>\n",
              "      <td>-1005.630000</td>\n",
              "      <td>0.000000</td>\n",
              "      <td>100.000000</td>\n",
              "      <td>0.000000</td>\n",
              "      <td>0.000000</td>\n",
              "      <td>0.000000</td>\n",
              "    </tr>\n",
              "    <tr>\n",
              "      <th>25%</th>\n",
              "      <td>3.301333e+08</td>\n",
              "      <td>3.301333e+08</td>\n",
              "      <td>5000.000000</td>\n",
              "      <td>1077.420000</td>\n",
              "      <td>33.650000</td>\n",
              "      <td>310.000000</td>\n",
              "      <td>310.000000</td>\n",
              "      <td>2178.000000</td>\n",
              "      <td>689.910000</td>\n",
              "    </tr>\n",
              "    <tr>\n",
              "      <th>50%</th>\n",
              "      <td>5.074561e+08</td>\n",
              "      <td>5.074561e+08</td>\n",
              "      <td>7500.000000</td>\n",
              "      <td>3184.860000</td>\n",
              "      <td>87.900000</td>\n",
              "      <td>535.000000</td>\n",
              "      <td>535.000000</td>\n",
              "      <td>4733.000000</td>\n",
              "      <td>2451.760000</td>\n",
              "    </tr>\n",
              "    <tr>\n",
              "      <th>75%</th>\n",
              "      <td>7.676200e+08</td>\n",
              "      <td>7.676200e+08</td>\n",
              "      <td>15000.000000</td>\n",
              "      <td>7500.000000</td>\n",
              "      <td>191.480000</td>\n",
              "      <td>785.000000</td>\n",
              "      <td>785.000000</td>\n",
              "      <td>7338.000000</td>\n",
              "      <td>5291.095000</td>\n",
              "    </tr>\n",
              "    <tr>\n",
              "      <th>max</th>\n",
              "      <td>9.993896e+08</td>\n",
              "      <td>9.993896e+08</td>\n",
              "      <td>50000.000000</td>\n",
              "      <td>50000.000000</td>\n",
              "      <td>2011.540000</td>\n",
              "      <td>998.000000</td>\n",
              "      <td>998.000000</td>\n",
              "      <td>9998.000000</td>\n",
              "      <td>47498.810000</td>\n",
              "    </tr>\n",
              "  </tbody>\n",
              "</table>\n",
              "</div>"
            ],
            "text/plain": [
              "       accountNumber    customerId  ...  cardLast4Digits  currentBalance\n",
              "count   7.863630e+05  7.863630e+05  ...    786363.000000   786363.000000\n",
              "mean    5.372326e+08  5.372326e+08  ...      4757.417799     4508.739089\n",
              "std     2.554211e+08  2.554211e+08  ...      2996.583810     6457.442068\n",
              "min     1.000881e+08  1.000881e+08  ...         0.000000        0.000000\n",
              "25%     3.301333e+08  3.301333e+08  ...      2178.000000      689.910000\n",
              "50%     5.074561e+08  5.074561e+08  ...      4733.000000     2451.760000\n",
              "75%     7.676200e+08  7.676200e+08  ...      7338.000000     5291.095000\n",
              "max     9.993896e+08  9.993896e+08  ...      9998.000000    47498.810000\n",
              "\n",
              "[8 rows x 9 columns]"
            ]
          },
          "metadata": {
            "tags": []
          },
          "execution_count": 8
        }
      ]
    },
    {
      "cell_type": "markdown",
      "metadata": {
        "id": "iH_qv6gMX9vJ"
      },
      "source": [
        "### **The initial exploratory data analysis**\r\n",
        "1.   Total Records- **786,363**\r\n",
        "2.   Fields in each record - **29 Columns**\r\n",
        "3.   DataTypes- **Integers, Floats, Object, Boolean**\r\n",
        "4.   Transaction Amount Range- **0.00 (Min) to 2011.54 (Max)**\r\n",
        "5.   Credit Limit Range-  **250 (Min) to 50,000 (Max)**\r\n",
        "6.   Mean transaction Amount- **136.98**\r\n",
        "7.   Mean credit limit - **10759.46**\r\n"
      ]
    },
    {
      "cell_type": "code",
      "metadata": {
        "id": "0X6LqVy8BNEN"
      },
      "source": [
        "data.isnull().sum()\r\n",
        "data=data.dropna()"
      ],
      "execution_count": null,
      "outputs": []
    },
    {
      "cell_type": "code",
      "metadata": {
        "id": "jM64Kw9r668y",
        "colab": {
          "base_uri": "https://localhost:8080/",
          "height": 443
        },
        "outputId": "bd832c48-1d3a-4a74-cbf9-f208f724ea13"
      },
      "source": [
        "data = data.reset_index(drop=True)\r\n",
        "data"
      ],
      "execution_count": null,
      "outputs": [
        {
          "output_type": "execute_result",
          "data": {
            "text/html": [
              "<div>\n",
              "<style scoped>\n",
              "    .dataframe tbody tr th:only-of-type {\n",
              "        vertical-align: middle;\n",
              "    }\n",
              "\n",
              "    .dataframe tbody tr th {\n",
              "        vertical-align: top;\n",
              "    }\n",
              "\n",
              "    .dataframe thead th {\n",
              "        text-align: right;\n",
              "    }\n",
              "</style>\n",
              "<table border=\"1\" class=\"dataframe\">\n",
              "  <thead>\n",
              "    <tr style=\"text-align: right;\">\n",
              "      <th></th>\n",
              "      <th>accountNumber</th>\n",
              "      <th>customerId</th>\n",
              "      <th>creditLimit</th>\n",
              "      <th>availableMoney</th>\n",
              "      <th>transactionDateTime</th>\n",
              "      <th>transactionAmount</th>\n",
              "      <th>merchantName</th>\n",
              "      <th>acqCountry</th>\n",
              "      <th>merchantCountryCode</th>\n",
              "      <th>posEntryMode</th>\n",
              "      <th>posConditionCode</th>\n",
              "      <th>merchantCategoryCode</th>\n",
              "      <th>currentExpDate</th>\n",
              "      <th>accountOpenDate</th>\n",
              "      <th>dateOfLastAddressChange</th>\n",
              "      <th>cardCVV</th>\n",
              "      <th>enteredCVV</th>\n",
              "      <th>cardLast4Digits</th>\n",
              "      <th>transactionType</th>\n",
              "      <th>echoBuffer</th>\n",
              "      <th>currentBalance</th>\n",
              "      <th>merchantCity</th>\n",
              "      <th>merchantState</th>\n",
              "      <th>merchantZip</th>\n",
              "      <th>cardPresent</th>\n",
              "      <th>posOnPremises</th>\n",
              "      <th>recurringAuthInd</th>\n",
              "      <th>expirationDateKeyInMatch</th>\n",
              "      <th>isFraud</th>\n",
              "    </tr>\n",
              "  </thead>\n",
              "  <tbody>\n",
              "    <tr>\n",
              "      <th>0</th>\n",
              "      <td>737265056</td>\n",
              "      <td>737265056</td>\n",
              "      <td>5000</td>\n",
              "      <td>5000.00</td>\n",
              "      <td>2016-08-13T14:27:32</td>\n",
              "      <td>98.55</td>\n",
              "      <td>Uber</td>\n",
              "      <td>US</td>\n",
              "      <td>US</td>\n",
              "      <td>02</td>\n",
              "      <td>01</td>\n",
              "      <td>rideshare</td>\n",
              "      <td>06/2023</td>\n",
              "      <td>2015-03-14</td>\n",
              "      <td>2015-03-14</td>\n",
              "      <td>414</td>\n",
              "      <td>414</td>\n",
              "      <td>1803</td>\n",
              "      <td>PURCHASE</td>\n",
              "      <td></td>\n",
              "      <td>0.00</td>\n",
              "      <td></td>\n",
              "      <td></td>\n",
              "      <td></td>\n",
              "      <td>False</td>\n",
              "      <td></td>\n",
              "      <td></td>\n",
              "      <td>False</td>\n",
              "      <td>False</td>\n",
              "    </tr>\n",
              "    <tr>\n",
              "      <th>1</th>\n",
              "      <td>737265056</td>\n",
              "      <td>737265056</td>\n",
              "      <td>5000</td>\n",
              "      <td>5000.00</td>\n",
              "      <td>2016-10-11T05:05:54</td>\n",
              "      <td>74.51</td>\n",
              "      <td>AMC #191138</td>\n",
              "      <td>US</td>\n",
              "      <td>US</td>\n",
              "      <td>09</td>\n",
              "      <td>01</td>\n",
              "      <td>entertainment</td>\n",
              "      <td>02/2024</td>\n",
              "      <td>2015-03-14</td>\n",
              "      <td>2015-03-14</td>\n",
              "      <td>486</td>\n",
              "      <td>486</td>\n",
              "      <td>767</td>\n",
              "      <td>PURCHASE</td>\n",
              "      <td></td>\n",
              "      <td>0.00</td>\n",
              "      <td></td>\n",
              "      <td></td>\n",
              "      <td></td>\n",
              "      <td>True</td>\n",
              "      <td></td>\n",
              "      <td></td>\n",
              "      <td>False</td>\n",
              "      <td>False</td>\n",
              "    </tr>\n",
              "    <tr>\n",
              "      <th>2</th>\n",
              "      <td>737265056</td>\n",
              "      <td>737265056</td>\n",
              "      <td>5000</td>\n",
              "      <td>5000.00</td>\n",
              "      <td>2016-11-08T09:18:39</td>\n",
              "      <td>7.47</td>\n",
              "      <td>Play Store</td>\n",
              "      <td>US</td>\n",
              "      <td>US</td>\n",
              "      <td>09</td>\n",
              "      <td>01</td>\n",
              "      <td>mobileapps</td>\n",
              "      <td>08/2025</td>\n",
              "      <td>2015-03-14</td>\n",
              "      <td>2015-03-14</td>\n",
              "      <td>486</td>\n",
              "      <td>486</td>\n",
              "      <td>767</td>\n",
              "      <td>PURCHASE</td>\n",
              "      <td></td>\n",
              "      <td>0.00</td>\n",
              "      <td></td>\n",
              "      <td></td>\n",
              "      <td></td>\n",
              "      <td>False</td>\n",
              "      <td></td>\n",
              "      <td></td>\n",
              "      <td>False</td>\n",
              "      <td>False</td>\n",
              "    </tr>\n",
              "    <tr>\n",
              "      <th>3</th>\n",
              "      <td>737265056</td>\n",
              "      <td>737265056</td>\n",
              "      <td>5000</td>\n",
              "      <td>5000.00</td>\n",
              "      <td>2016-12-10T02:14:50</td>\n",
              "      <td>7.47</td>\n",
              "      <td>Play Store</td>\n",
              "      <td>US</td>\n",
              "      <td>US</td>\n",
              "      <td>09</td>\n",
              "      <td>01</td>\n",
              "      <td>mobileapps</td>\n",
              "      <td>08/2025</td>\n",
              "      <td>2015-03-14</td>\n",
              "      <td>2015-03-14</td>\n",
              "      <td>486</td>\n",
              "      <td>486</td>\n",
              "      <td>767</td>\n",
              "      <td>PURCHASE</td>\n",
              "      <td></td>\n",
              "      <td>0.00</td>\n",
              "      <td></td>\n",
              "      <td></td>\n",
              "      <td></td>\n",
              "      <td>False</td>\n",
              "      <td></td>\n",
              "      <td></td>\n",
              "      <td>False</td>\n",
              "      <td>False</td>\n",
              "    </tr>\n",
              "    <tr>\n",
              "      <th>4</th>\n",
              "      <td>830329091</td>\n",
              "      <td>830329091</td>\n",
              "      <td>5000</td>\n",
              "      <td>5000.00</td>\n",
              "      <td>2016-03-24T21:04:46</td>\n",
              "      <td>71.18</td>\n",
              "      <td>Tim Hortons #947751</td>\n",
              "      <td>US</td>\n",
              "      <td>US</td>\n",
              "      <td>02</td>\n",
              "      <td>01</td>\n",
              "      <td>fastfood</td>\n",
              "      <td>10/2029</td>\n",
              "      <td>2015-08-06</td>\n",
              "      <td>2015-08-06</td>\n",
              "      <td>885</td>\n",
              "      <td>885</td>\n",
              "      <td>3143</td>\n",
              "      <td>PURCHASE</td>\n",
              "      <td></td>\n",
              "      <td>0.00</td>\n",
              "      <td></td>\n",
              "      <td></td>\n",
              "      <td></td>\n",
              "      <td>True</td>\n",
              "      <td></td>\n",
              "      <td></td>\n",
              "      <td>False</td>\n",
              "      <td>False</td>\n",
              "    </tr>\n",
              "    <tr>\n",
              "      <th>...</th>\n",
              "      <td>...</td>\n",
              "      <td>...</td>\n",
              "      <td>...</td>\n",
              "      <td>...</td>\n",
              "      <td>...</td>\n",
              "      <td>...</td>\n",
              "      <td>...</td>\n",
              "      <td>...</td>\n",
              "      <td>...</td>\n",
              "      <td>...</td>\n",
              "      <td>...</td>\n",
              "      <td>...</td>\n",
              "      <td>...</td>\n",
              "      <td>...</td>\n",
              "      <td>...</td>\n",
              "      <td>...</td>\n",
              "      <td>...</td>\n",
              "      <td>...</td>\n",
              "      <td>...</td>\n",
              "      <td>...</td>\n",
              "      <td>...</td>\n",
              "      <td>...</td>\n",
              "      <td>...</td>\n",
              "      <td>...</td>\n",
              "      <td>...</td>\n",
              "      <td>...</td>\n",
              "      <td>...</td>\n",
              "      <td>...</td>\n",
              "      <td>...</td>\n",
              "    </tr>\n",
              "    <tr>\n",
              "      <th>786358</th>\n",
              "      <td>732852505</td>\n",
              "      <td>732852505</td>\n",
              "      <td>50000</td>\n",
              "      <td>48904.96</td>\n",
              "      <td>2016-12-22T18:44:12</td>\n",
              "      <td>119.92</td>\n",
              "      <td>Lyft</td>\n",
              "      <td>US</td>\n",
              "      <td>US</td>\n",
              "      <td>90</td>\n",
              "      <td>01</td>\n",
              "      <td>rideshare</td>\n",
              "      <td>12/2022</td>\n",
              "      <td>2012-08-23</td>\n",
              "      <td>2012-08-23</td>\n",
              "      <td>936</td>\n",
              "      <td>936</td>\n",
              "      <td>3783</td>\n",
              "      <td>PURCHASE</td>\n",
              "      <td></td>\n",
              "      <td>1095.04</td>\n",
              "      <td></td>\n",
              "      <td></td>\n",
              "      <td></td>\n",
              "      <td>False</td>\n",
              "      <td></td>\n",
              "      <td></td>\n",
              "      <td>False</td>\n",
              "      <td>False</td>\n",
              "    </tr>\n",
              "    <tr>\n",
              "      <th>786359</th>\n",
              "      <td>732852505</td>\n",
              "      <td>732852505</td>\n",
              "      <td>50000</td>\n",
              "      <td>48785.04</td>\n",
              "      <td>2016-12-25T16:20:34</td>\n",
              "      <td>18.89</td>\n",
              "      <td>hulu.com</td>\n",
              "      <td>US</td>\n",
              "      <td>US</td>\n",
              "      <td>09</td>\n",
              "      <td>01</td>\n",
              "      <td>online_subscriptions</td>\n",
              "      <td>08/2023</td>\n",
              "      <td>2012-08-23</td>\n",
              "      <td>2012-08-23</td>\n",
              "      <td>939</td>\n",
              "      <td>939</td>\n",
              "      <td>3388</td>\n",
              "      <td>PURCHASE</td>\n",
              "      <td></td>\n",
              "      <td>1214.96</td>\n",
              "      <td></td>\n",
              "      <td></td>\n",
              "      <td></td>\n",
              "      <td>False</td>\n",
              "      <td></td>\n",
              "      <td></td>\n",
              "      <td>False</td>\n",
              "      <td>False</td>\n",
              "    </tr>\n",
              "    <tr>\n",
              "      <th>786360</th>\n",
              "      <td>732852505</td>\n",
              "      <td>732852505</td>\n",
              "      <td>50000</td>\n",
              "      <td>48766.15</td>\n",
              "      <td>2016-12-27T15:46:24</td>\n",
              "      <td>49.43</td>\n",
              "      <td>Lyft</td>\n",
              "      <td>US</td>\n",
              "      <td>US</td>\n",
              "      <td>02</td>\n",
              "      <td>01</td>\n",
              "      <td>rideshare</td>\n",
              "      <td>08/2025</td>\n",
              "      <td>2012-08-23</td>\n",
              "      <td>2012-08-23</td>\n",
              "      <td>936</td>\n",
              "      <td>936</td>\n",
              "      <td>3783</td>\n",
              "      <td>PURCHASE</td>\n",
              "      <td></td>\n",
              "      <td>1233.85</td>\n",
              "      <td></td>\n",
              "      <td></td>\n",
              "      <td></td>\n",
              "      <td>False</td>\n",
              "      <td></td>\n",
              "      <td></td>\n",
              "      <td>False</td>\n",
              "      <td>False</td>\n",
              "    </tr>\n",
              "    <tr>\n",
              "      <th>786361</th>\n",
              "      <td>732852505</td>\n",
              "      <td>732852505</td>\n",
              "      <td>50000</td>\n",
              "      <td>48716.72</td>\n",
              "      <td>2016-12-29T00:30:55</td>\n",
              "      <td>49.89</td>\n",
              "      <td>walmart.com</td>\n",
              "      <td>US</td>\n",
              "      <td>US</td>\n",
              "      <td>09</td>\n",
              "      <td>99</td>\n",
              "      <td>online_retail</td>\n",
              "      <td>07/2022</td>\n",
              "      <td>2012-08-23</td>\n",
              "      <td>2012-08-23</td>\n",
              "      <td>939</td>\n",
              "      <td>939</td>\n",
              "      <td>3388</td>\n",
              "      <td>PURCHASE</td>\n",
              "      <td></td>\n",
              "      <td>1283.28</td>\n",
              "      <td></td>\n",
              "      <td></td>\n",
              "      <td></td>\n",
              "      <td>False</td>\n",
              "      <td></td>\n",
              "      <td></td>\n",
              "      <td>False</td>\n",
              "      <td>False</td>\n",
              "    </tr>\n",
              "    <tr>\n",
              "      <th>786362</th>\n",
              "      <td>732852505</td>\n",
              "      <td>732852505</td>\n",
              "      <td>50000</td>\n",
              "      <td>48666.83</td>\n",
              "      <td>2016-12-30T20:10:29</td>\n",
              "      <td>72.18</td>\n",
              "      <td>Uber</td>\n",
              "      <td>US</td>\n",
              "      <td>US</td>\n",
              "      <td>05</td>\n",
              "      <td>01</td>\n",
              "      <td>rideshare</td>\n",
              "      <td>05/2024</td>\n",
              "      <td>2012-08-23</td>\n",
              "      <td>2012-08-23</td>\n",
              "      <td>939</td>\n",
              "      <td>939</td>\n",
              "      <td>3388</td>\n",
              "      <td>PURCHASE</td>\n",
              "      <td></td>\n",
              "      <td>1333.17</td>\n",
              "      <td></td>\n",
              "      <td></td>\n",
              "      <td></td>\n",
              "      <td>False</td>\n",
              "      <td></td>\n",
              "      <td></td>\n",
              "      <td>False</td>\n",
              "      <td>False</td>\n",
              "    </tr>\n",
              "  </tbody>\n",
              "</table>\n",
              "<p>786363 rows × 29 columns</p>\n",
              "</div>"
            ],
            "text/plain": [
              "        accountNumber  customerId  ...  expirationDateKeyInMatch  isFraud\n",
              "0           737265056   737265056  ...                     False    False\n",
              "1           737265056   737265056  ...                     False    False\n",
              "2           737265056   737265056  ...                     False    False\n",
              "3           737265056   737265056  ...                     False    False\n",
              "4           830329091   830329091  ...                     False    False\n",
              "...               ...         ...  ...                       ...      ...\n",
              "786358      732852505   732852505  ...                     False    False\n",
              "786359      732852505   732852505  ...                     False    False\n",
              "786360      732852505   732852505  ...                     False    False\n",
              "786361      732852505   732852505  ...                     False    False\n",
              "786362      732852505   732852505  ...                     False    False\n",
              "\n",
              "[786363 rows x 29 columns]"
            ]
          },
          "metadata": {
            "tags": []
          },
          "execution_count": 10
        }
      ]
    },
    {
      "cell_type": "markdown",
      "metadata": {
        "id": "MSYPMCQm_kiw"
      },
      "source": [
        "**Remove insignificant Columns**\r\n",
        "\r\n"
      ]
    },
    {
      "cell_type": "code",
      "metadata": {
        "id": "5sYKmKZl1LEV"
      },
      "source": [
        "data.drop(['echoBuffer','merchantCity','merchantState','merchantZip','posOnPremises','recurringAuthInd'],axis=1, inplace=True)"
      ],
      "execution_count": null,
      "outputs": []
    },
    {
      "cell_type": "markdown",
      "metadata": {
        "id": "fOpVhY4wAZzb"
      },
      "source": [
        "Remove Transactions with 0 transaction amount."
      ]
    },
    {
      "cell_type": "code",
      "metadata": {
        "id": "11CoxJ5BEzja",
        "colab": {
          "base_uri": "https://localhost:8080/",
          "height": 443
        },
        "outputId": "6de03c3f-b283-4cbe-c024-85fe0febe07a"
      },
      "source": [
        "data=data[data['transactionAmount']!=0]\r\n",
        "data = data.reset_index(drop=True)\r\n",
        "data"
      ],
      "execution_count": null,
      "outputs": [
        {
          "output_type": "execute_result",
          "data": {
            "text/html": [
              "<div>\n",
              "<style scoped>\n",
              "    .dataframe tbody tr th:only-of-type {\n",
              "        vertical-align: middle;\n",
              "    }\n",
              "\n",
              "    .dataframe tbody tr th {\n",
              "        vertical-align: top;\n",
              "    }\n",
              "\n",
              "    .dataframe thead th {\n",
              "        text-align: right;\n",
              "    }\n",
              "</style>\n",
              "<table border=\"1\" class=\"dataframe\">\n",
              "  <thead>\n",
              "    <tr style=\"text-align: right;\">\n",
              "      <th></th>\n",
              "      <th>accountNumber</th>\n",
              "      <th>customerId</th>\n",
              "      <th>creditLimit</th>\n",
              "      <th>availableMoney</th>\n",
              "      <th>transactionDateTime</th>\n",
              "      <th>transactionAmount</th>\n",
              "      <th>merchantName</th>\n",
              "      <th>acqCountry</th>\n",
              "      <th>merchantCountryCode</th>\n",
              "      <th>posEntryMode</th>\n",
              "      <th>posConditionCode</th>\n",
              "      <th>merchantCategoryCode</th>\n",
              "      <th>currentExpDate</th>\n",
              "      <th>accountOpenDate</th>\n",
              "      <th>dateOfLastAddressChange</th>\n",
              "      <th>cardCVV</th>\n",
              "      <th>enteredCVV</th>\n",
              "      <th>cardLast4Digits</th>\n",
              "      <th>transactionType</th>\n",
              "      <th>currentBalance</th>\n",
              "      <th>cardPresent</th>\n",
              "      <th>expirationDateKeyInMatch</th>\n",
              "      <th>isFraud</th>\n",
              "    </tr>\n",
              "  </thead>\n",
              "  <tbody>\n",
              "    <tr>\n",
              "      <th>0</th>\n",
              "      <td>737265056</td>\n",
              "      <td>737265056</td>\n",
              "      <td>5000</td>\n",
              "      <td>5000.00</td>\n",
              "      <td>2016-08-13T14:27:32</td>\n",
              "      <td>98.55</td>\n",
              "      <td>Uber</td>\n",
              "      <td>US</td>\n",
              "      <td>US</td>\n",
              "      <td>02</td>\n",
              "      <td>01</td>\n",
              "      <td>rideshare</td>\n",
              "      <td>06/2023</td>\n",
              "      <td>2015-03-14</td>\n",
              "      <td>2015-03-14</td>\n",
              "      <td>414</td>\n",
              "      <td>414</td>\n",
              "      <td>1803</td>\n",
              "      <td>PURCHASE</td>\n",
              "      <td>0.00</td>\n",
              "      <td>False</td>\n",
              "      <td>False</td>\n",
              "      <td>False</td>\n",
              "    </tr>\n",
              "    <tr>\n",
              "      <th>1</th>\n",
              "      <td>737265056</td>\n",
              "      <td>737265056</td>\n",
              "      <td>5000</td>\n",
              "      <td>5000.00</td>\n",
              "      <td>2016-10-11T05:05:54</td>\n",
              "      <td>74.51</td>\n",
              "      <td>AMC #191138</td>\n",
              "      <td>US</td>\n",
              "      <td>US</td>\n",
              "      <td>09</td>\n",
              "      <td>01</td>\n",
              "      <td>entertainment</td>\n",
              "      <td>02/2024</td>\n",
              "      <td>2015-03-14</td>\n",
              "      <td>2015-03-14</td>\n",
              "      <td>486</td>\n",
              "      <td>486</td>\n",
              "      <td>767</td>\n",
              "      <td>PURCHASE</td>\n",
              "      <td>0.00</td>\n",
              "      <td>True</td>\n",
              "      <td>False</td>\n",
              "      <td>False</td>\n",
              "    </tr>\n",
              "    <tr>\n",
              "      <th>2</th>\n",
              "      <td>737265056</td>\n",
              "      <td>737265056</td>\n",
              "      <td>5000</td>\n",
              "      <td>5000.00</td>\n",
              "      <td>2016-11-08T09:18:39</td>\n",
              "      <td>7.47</td>\n",
              "      <td>Play Store</td>\n",
              "      <td>US</td>\n",
              "      <td>US</td>\n",
              "      <td>09</td>\n",
              "      <td>01</td>\n",
              "      <td>mobileapps</td>\n",
              "      <td>08/2025</td>\n",
              "      <td>2015-03-14</td>\n",
              "      <td>2015-03-14</td>\n",
              "      <td>486</td>\n",
              "      <td>486</td>\n",
              "      <td>767</td>\n",
              "      <td>PURCHASE</td>\n",
              "      <td>0.00</td>\n",
              "      <td>False</td>\n",
              "      <td>False</td>\n",
              "      <td>False</td>\n",
              "    </tr>\n",
              "    <tr>\n",
              "      <th>3</th>\n",
              "      <td>737265056</td>\n",
              "      <td>737265056</td>\n",
              "      <td>5000</td>\n",
              "      <td>5000.00</td>\n",
              "      <td>2016-12-10T02:14:50</td>\n",
              "      <td>7.47</td>\n",
              "      <td>Play Store</td>\n",
              "      <td>US</td>\n",
              "      <td>US</td>\n",
              "      <td>09</td>\n",
              "      <td>01</td>\n",
              "      <td>mobileapps</td>\n",
              "      <td>08/2025</td>\n",
              "      <td>2015-03-14</td>\n",
              "      <td>2015-03-14</td>\n",
              "      <td>486</td>\n",
              "      <td>486</td>\n",
              "      <td>767</td>\n",
              "      <td>PURCHASE</td>\n",
              "      <td>0.00</td>\n",
              "      <td>False</td>\n",
              "      <td>False</td>\n",
              "      <td>False</td>\n",
              "    </tr>\n",
              "    <tr>\n",
              "      <th>4</th>\n",
              "      <td>830329091</td>\n",
              "      <td>830329091</td>\n",
              "      <td>5000</td>\n",
              "      <td>5000.00</td>\n",
              "      <td>2016-03-24T21:04:46</td>\n",
              "      <td>71.18</td>\n",
              "      <td>Tim Hortons #947751</td>\n",
              "      <td>US</td>\n",
              "      <td>US</td>\n",
              "      <td>02</td>\n",
              "      <td>01</td>\n",
              "      <td>fastfood</td>\n",
              "      <td>10/2029</td>\n",
              "      <td>2015-08-06</td>\n",
              "      <td>2015-08-06</td>\n",
              "      <td>885</td>\n",
              "      <td>885</td>\n",
              "      <td>3143</td>\n",
              "      <td>PURCHASE</td>\n",
              "      <td>0.00</td>\n",
              "      <td>True</td>\n",
              "      <td>False</td>\n",
              "      <td>False</td>\n",
              "    </tr>\n",
              "    <tr>\n",
              "      <th>...</th>\n",
              "      <td>...</td>\n",
              "      <td>...</td>\n",
              "      <td>...</td>\n",
              "      <td>...</td>\n",
              "      <td>...</td>\n",
              "      <td>...</td>\n",
              "      <td>...</td>\n",
              "      <td>...</td>\n",
              "      <td>...</td>\n",
              "      <td>...</td>\n",
              "      <td>...</td>\n",
              "      <td>...</td>\n",
              "      <td>...</td>\n",
              "      <td>...</td>\n",
              "      <td>...</td>\n",
              "      <td>...</td>\n",
              "      <td>...</td>\n",
              "      <td>...</td>\n",
              "      <td>...</td>\n",
              "      <td>...</td>\n",
              "      <td>...</td>\n",
              "      <td>...</td>\n",
              "      <td>...</td>\n",
              "    </tr>\n",
              "    <tr>\n",
              "      <th>764133</th>\n",
              "      <td>732852505</td>\n",
              "      <td>732852505</td>\n",
              "      <td>50000</td>\n",
              "      <td>48904.96</td>\n",
              "      <td>2016-12-22T18:44:12</td>\n",
              "      <td>119.92</td>\n",
              "      <td>Lyft</td>\n",
              "      <td>US</td>\n",
              "      <td>US</td>\n",
              "      <td>90</td>\n",
              "      <td>01</td>\n",
              "      <td>rideshare</td>\n",
              "      <td>12/2022</td>\n",
              "      <td>2012-08-23</td>\n",
              "      <td>2012-08-23</td>\n",
              "      <td>936</td>\n",
              "      <td>936</td>\n",
              "      <td>3783</td>\n",
              "      <td>PURCHASE</td>\n",
              "      <td>1095.04</td>\n",
              "      <td>False</td>\n",
              "      <td>False</td>\n",
              "      <td>False</td>\n",
              "    </tr>\n",
              "    <tr>\n",
              "      <th>764134</th>\n",
              "      <td>732852505</td>\n",
              "      <td>732852505</td>\n",
              "      <td>50000</td>\n",
              "      <td>48785.04</td>\n",
              "      <td>2016-12-25T16:20:34</td>\n",
              "      <td>18.89</td>\n",
              "      <td>hulu.com</td>\n",
              "      <td>US</td>\n",
              "      <td>US</td>\n",
              "      <td>09</td>\n",
              "      <td>01</td>\n",
              "      <td>online_subscriptions</td>\n",
              "      <td>08/2023</td>\n",
              "      <td>2012-08-23</td>\n",
              "      <td>2012-08-23</td>\n",
              "      <td>939</td>\n",
              "      <td>939</td>\n",
              "      <td>3388</td>\n",
              "      <td>PURCHASE</td>\n",
              "      <td>1214.96</td>\n",
              "      <td>False</td>\n",
              "      <td>False</td>\n",
              "      <td>False</td>\n",
              "    </tr>\n",
              "    <tr>\n",
              "      <th>764135</th>\n",
              "      <td>732852505</td>\n",
              "      <td>732852505</td>\n",
              "      <td>50000</td>\n",
              "      <td>48766.15</td>\n",
              "      <td>2016-12-27T15:46:24</td>\n",
              "      <td>49.43</td>\n",
              "      <td>Lyft</td>\n",
              "      <td>US</td>\n",
              "      <td>US</td>\n",
              "      <td>02</td>\n",
              "      <td>01</td>\n",
              "      <td>rideshare</td>\n",
              "      <td>08/2025</td>\n",
              "      <td>2012-08-23</td>\n",
              "      <td>2012-08-23</td>\n",
              "      <td>936</td>\n",
              "      <td>936</td>\n",
              "      <td>3783</td>\n",
              "      <td>PURCHASE</td>\n",
              "      <td>1233.85</td>\n",
              "      <td>False</td>\n",
              "      <td>False</td>\n",
              "      <td>False</td>\n",
              "    </tr>\n",
              "    <tr>\n",
              "      <th>764136</th>\n",
              "      <td>732852505</td>\n",
              "      <td>732852505</td>\n",
              "      <td>50000</td>\n",
              "      <td>48716.72</td>\n",
              "      <td>2016-12-29T00:30:55</td>\n",
              "      <td>49.89</td>\n",
              "      <td>walmart.com</td>\n",
              "      <td>US</td>\n",
              "      <td>US</td>\n",
              "      <td>09</td>\n",
              "      <td>99</td>\n",
              "      <td>online_retail</td>\n",
              "      <td>07/2022</td>\n",
              "      <td>2012-08-23</td>\n",
              "      <td>2012-08-23</td>\n",
              "      <td>939</td>\n",
              "      <td>939</td>\n",
              "      <td>3388</td>\n",
              "      <td>PURCHASE</td>\n",
              "      <td>1283.28</td>\n",
              "      <td>False</td>\n",
              "      <td>False</td>\n",
              "      <td>False</td>\n",
              "    </tr>\n",
              "    <tr>\n",
              "      <th>764137</th>\n",
              "      <td>732852505</td>\n",
              "      <td>732852505</td>\n",
              "      <td>50000</td>\n",
              "      <td>48666.83</td>\n",
              "      <td>2016-12-30T20:10:29</td>\n",
              "      <td>72.18</td>\n",
              "      <td>Uber</td>\n",
              "      <td>US</td>\n",
              "      <td>US</td>\n",
              "      <td>05</td>\n",
              "      <td>01</td>\n",
              "      <td>rideshare</td>\n",
              "      <td>05/2024</td>\n",
              "      <td>2012-08-23</td>\n",
              "      <td>2012-08-23</td>\n",
              "      <td>939</td>\n",
              "      <td>939</td>\n",
              "      <td>3388</td>\n",
              "      <td>PURCHASE</td>\n",
              "      <td>1333.17</td>\n",
              "      <td>False</td>\n",
              "      <td>False</td>\n",
              "      <td>False</td>\n",
              "    </tr>\n",
              "  </tbody>\n",
              "</table>\n",
              "<p>764138 rows × 23 columns</p>\n",
              "</div>"
            ],
            "text/plain": [
              "        accountNumber  customerId  ...  expirationDateKeyInMatch  isFraud\n",
              "0           737265056   737265056  ...                     False    False\n",
              "1           737265056   737265056  ...                     False    False\n",
              "2           737265056   737265056  ...                     False    False\n",
              "3           737265056   737265056  ...                     False    False\n",
              "4           830329091   830329091  ...                     False    False\n",
              "...               ...         ...  ...                       ...      ...\n",
              "764133      732852505   732852505  ...                     False    False\n",
              "764134      732852505   732852505  ...                     False    False\n",
              "764135      732852505   732852505  ...                     False    False\n",
              "764136      732852505   732852505  ...                     False    False\n",
              "764137      732852505   732852505  ...                     False    False\n",
              "\n",
              "[764138 rows x 23 columns]"
            ]
          },
          "metadata": {
            "tags": []
          },
          "execution_count": 12
        }
      ]
    },
    {
      "cell_type": "markdown",
      "metadata": {
        "id": "VckjPXw3fKWa"
      },
      "source": [
        "There are **22,225** rows with Transaction Amount as 0.0"
      ]
    },
    {
      "cell_type": "markdown",
      "metadata": {
        "id": "Fv7UlpKSfKYh"
      },
      "source": [
        "### Correlation Matrix\r\n",
        "Determine important features using correlation matrix, see how they correlerate with the creditLimit and transaction Amount\r\n",
        "\r\n",
        "Multicollinearity among predictors"
      ]
    },
    {
      "cell_type": "code",
      "metadata": {
        "id": "bj0KizdEA0uZ",
        "colab": {
          "base_uri": "https://localhost:8080/",
          "height": 735
        },
        "outputId": "d87257a2-d8ac-4557-c714-1117565dba73"
      },
      "source": [
        "import matplotlib.pyplot as plt\r\n",
        "import seaborn as sns \r\n",
        "\r\n",
        "plt.figure(figsize=(10,10))\r\n",
        "cor=data.corr()\r\n",
        "sns.heatmap(cor,annot=True,cmap=plt.cm.Reds)"
      ],
      "execution_count": null,
      "outputs": [
        {
          "output_type": "execute_result",
          "data": {
            "text/plain": [
              "<matplotlib.axes._subplots.AxesSubplot at 0x7f4da01c7b70>"
            ]
          },
          "metadata": {
            "tags": []
          },
          "execution_count": 13
        },
        {
          "output_type": "display_data",
          "data": {
            "image/png": "[encoded data removed]",
            "text/plain": [
              "<Figure size 720x720 with 2 Axes>"
            ]
          },
          "metadata": {
            "tags": [],
            "needs_background": "light"
          }
        }
      ]
    },
    {
      "cell_type": "markdown",
      "metadata": {
        "id": "qQK--uVEquDD"
      },
      "source": [
        "### Dimensionality Reduction\r\n",
        "Here the variable pairs **(accountNo, customerId), (cardCVV, enteredCVV)** and **(availableBalance, creditLimit)** are highly co-related.\r\n",
        "Hence in future if the independent features need to be reduced, either one of these variables could simply be droppped."
      ]
    },
    {
      "cell_type": "code",
      "metadata": {
        "id": "6YUhcgZx7FJv"
      },
      "source": [
        "data.drop(['enteredCVV'],axis=1, inplace=True)"
      ],
      "execution_count": null,
      "outputs": []
    },
    {
      "cell_type": "markdown",
      "metadata": {
        "id": "hHdL68QeBdA4"
      },
      "source": [
        "# 2. Plot - Data Visualization"
      ]
    },
    {
      "cell_type": "code",
      "metadata": {
        "id": "3JJP3lanYTEd"
      },
      "source": [
        "TA=data['transactionAmount']\r\n",
        "#data['transactionAmount'][0]"
      ],
      "execution_count": null,
      "outputs": []
    },
    {
      "cell_type": "code",
      "metadata": {
        "colab": {
          "base_uri": "https://localhost:8080/"
        },
        "id": "TRAAxezH-NsU",
        "outputId": "6d3f7a44-c300-42e6-cb8e-adbed3d946cf"
      },
      "source": [
        "data.isFraud.value_counts()"
      ],
      "execution_count": null,
      "outputs": [
        {
          "output_type": "execute_result",
          "data": {
            "text/plain": [
              "False    751843\n",
              "True      12295\n",
              "Name: isFraud, dtype: int64"
            ]
          },
          "metadata": {
            "tags": []
          },
          "execution_count": 16
        }
      ]
    },
    {
      "cell_type": "code",
      "metadata": {
        "colab": {
          "base_uri": "https://localhost:8080/",
          "height": 247
        },
        "id": "NTQKPTby9CRa",
        "outputId": "4c80a8d0-b47f-4311-8285-6322d4420fbf"
      },
      "source": [
        "dataP = [12295,751843] \r\n",
        "\r\n",
        "fig = plt.figure(figsize =(8, 4)) \r\n",
        "plt.pie(dataP, labels =['Fraud', 'Not Fraud']  ) \r\n",
        "  \r\n",
        "plt.show() "
      ],
      "execution_count": null,
      "outputs": [
        {
          "output_type": "display_data",
          "data": {
            "image/png": "[encoded data removed]",
            "text/plain": [
              "<Figure size 576x288 with 1 Axes>"
            ]
          },
          "metadata": {
            "tags": []
          }
        }
      ]
    },
    {
      "cell_type": "code",
      "metadata": {
        "id": "aBk5fESvYchj",
        "colab": {
          "base_uri": "https://localhost:8080/",
          "height": 296
        },
        "outputId": "44ff6e45-ccd1-4568-9553-0ab75bd8fe37"
      },
      "source": [
        "plt.xlabel('Transaction amount')\r\n",
        "plt.ylabel('Num of Transactions')\r\n",
        "plt.hist(TA, bins=100)[0]\r\n",
        "print(\"Transaction Amount Distribution\")"
      ],
      "execution_count": null,
      "outputs": [
        {
          "output_type": "stream",
          "text": [
            "Transaction Amount Distribution\n"
          ],
          "name": "stdout"
        },
        {
          "output_type": "display_data",
          "data": {
            "image/png": "[encoded data removed]",
            "text/plain": [
              "<Figure size 432x288 with 1 Axes>"
            ]
          },
          "metadata": {
            "tags": [],
            "needs_background": "light"
          }
        }
      ]
    },
    {
      "cell_type": "markdown",
      "metadata": {
        "id": "0nWMdTRcBvFF"
      },
      "source": [
        "Plot Transaction Amount in bins of 100"
      ]
    },
    {
      "cell_type": "markdown",
      "metadata": {
        "id": "W9X4Uhwcsjog"
      },
      "source": [
        "Based upon the above plot, the parameter Transaction Amount shows exponential curve.\r\n",
        "Hence the Transaction Amount varies exponentially in the dataset\r\n",
        "\r\n",
        "The number of transactions peaks in the Transaction Amount range from 0 to 100 USD "
      ]
    },
    {
      "cell_type": "code",
      "metadata": {
        "id": "3lbo1hzYmbaF",
        "colab": {
          "base_uri": "https://localhost:8080/",
          "height": 352
        },
        "outputId": "455871ff-0468-4db3-f475-ca0f32ca5b61"
      },
      "source": [
        "sns.distplot(data['creditLimit'])\r\n",
        "print(\"Credit Limit Density Distribution\")"
      ],
      "execution_count": null,
      "outputs": [
        {
          "output_type": "stream",
          "text": [
            "/usr/local/lib/python3.6/dist-packages/seaborn/distributions.py:2557: FutureWarning: `distplot` is a deprecated function and will be removed in a future version. Please adapt your code to use either `displot` (a figure-level function with similar flexibility) or `histplot` (an axes-level function for histograms).\n",
            "  warnings.warn(msg, FutureWarning)\n"
          ],
          "name": "stderr"
        },
        {
          "output_type": "stream",
          "text": [
            "Credit Limit Density Distribution\n"
          ],
          "name": "stdout"
        },
        {
          "output_type": "display_data",
          "data": {
            "image/png": "[encoded data removed]",
            "text/plain": [
              "<Figure size 432x288 with 1 Axes>"
            ]
          },
          "metadata": {
            "tags": [],
            "needs_background": "light"
          }
        }
      ]
    },
    {
      "cell_type": "markdown",
      "metadata": {
        "id": "5XRbR16ajhNL"
      },
      "source": [
        "However the plot of Credit Limit indicates that credit Limit is set at discrete values and not uniformly evenly distributed as the Available Money\r\n",
        "\r\n",
        "Credit Limit peaks at about **5000**. "
      ]
    },
    {
      "cell_type": "code",
      "metadata": {
        "id": "PYR6j_IjeYjk",
        "colab": {
          "base_uri": "https://localhost:8080/",
          "height": 550
        },
        "outputId": "d2cfeeed-7850-4004-db8b-ac26a7eca9a3"
      },
      "source": [
        "#sns.distplot(data['transactionAmount'])\r\n",
        "\r\n",
        "fig, ax = plt.subplots(nrows=1, ncols=4, figsize=(20,5))\r\n",
        "\r\n",
        "n_cols = ['creditLimit', 'availableMoney', 'transactionAmount', 'currentBalance']\r\n",
        "colors = ['#800000','#3C91E6','#59C9A5','#9BE564']\r\n",
        "counter = 0\r\n",
        "\r\n",
        "for j in range(4):\r\n",
        "    sns.distplot(data[n_cols[counter]], ax=ax[j], color=colors[j])\r\n",
        "    ax[j].set_xlabel(n_cols[counter], fontsize=10)\r\n",
        "    ax[j].set_ylabel('')\r\n",
        "    counter+=1\r\n",
        "\r\n",
        "fig.suptitle('Data Distribution', fontsize=18)"
      ],
      "execution_count": null,
      "outputs": [
        {
          "output_type": "stream",
          "text": [
            "/usr/local/lib/python3.6/dist-packages/seaborn/distributions.py:2557: FutureWarning: `distplot` is a deprecated function and will be removed in a future version. Please adapt your code to use either `displot` (a figure-level function with similar flexibility) or `histplot` (an axes-level function for histograms).\n",
            "  warnings.warn(msg, FutureWarning)\n",
            "/usr/local/lib/python3.6/dist-packages/seaborn/distributions.py:2557: FutureWarning: `distplot` is a deprecated function and will be removed in a future version. Please adapt your code to use either `displot` (a figure-level function with similar flexibility) or `histplot` (an axes-level function for histograms).\n",
            "  warnings.warn(msg, FutureWarning)\n",
            "/usr/local/lib/python3.6/dist-packages/seaborn/distributions.py:2557: FutureWarning: `distplot` is a deprecated function and will be removed in a future version. Please adapt your code to use either `displot` (a figure-level function with similar flexibility) or `histplot` (an axes-level function for histograms).\n",
            "  warnings.warn(msg, FutureWarning)\n",
            "/usr/local/lib/python3.6/dist-packages/seaborn/distributions.py:2557: FutureWarning: `distplot` is a deprecated function and will be removed in a future version. Please adapt your code to use either `displot` (a figure-level function with similar flexibility) or `histplot` (an axes-level function for histograms).\n",
            "  warnings.warn(msg, FutureWarning)\n"
          ],
          "name": "stderr"
        },
        {
          "output_type": "execute_result",
          "data": {
            "text/plain": [
              "Text(0.5, 0.98, 'Data Distribution')"
            ]
          },
          "metadata": {
            "tags": []
          },
          "execution_count": 20
        },
        {
          "output_type": "display_data",
          "data": {
            "image/png": "[encoded data removed]",
            "text/plain": [
              "<Figure size 1440x360 with 4 Axes>"
            ]
          },
          "metadata": {
            "tags": [],
            "needs_background": "light"
          }
        }
      ]
    },
    {
      "cell_type": "markdown",
      "metadata": {
        "id": "rMheE9UjiOor"
      },
      "source": [
        "Here the distribution plots of Available Money, Transaction Amount, Current Balance follow exponential curve."
      ]
    },
    {
      "cell_type": "code",
      "metadata": {
        "id": "vV1-WFkjmdSG",
        "colab": {
          "base_uri": "https://localhost:8080/",
          "height": 312
        },
        "outputId": "e6cebb6d-a43b-4c83-aad4-39fcb7bf83ef"
      },
      "source": [
        "sns.countplot(data=data, x='isFraud', hue='cardPresent')\r\n",
        "plt.xlabel('Is Fraud')\r\n",
        "plt.ylabel('Amount of Transactions')\r\n",
        "plt.title('Card Present and Fraudulent Transactions')"
      ],
      "execution_count": null,
      "outputs": [
        {
          "output_type": "execute_result",
          "data": {
            "text/plain": [
              "Text(0.5, 1.0, 'Card Present and Fraudulent Transactions')"
            ]
          },
          "metadata": {
            "tags": []
          },
          "execution_count": 21
        },
        {
          "output_type": "display_data",
          "data": {
            "image/png": "[encoded data removed]",
            "text/plain": [
              "<Figure size 432x288 with 1 Axes>"
            ]
          },
          "metadata": {
            "tags": [],
            "needs_background": "light"
          }
        }
      ]
    },
    {
      "cell_type": "code",
      "metadata": {
        "id": "ClbaG_Hymf5k",
        "colab": {
          "base_uri": "https://localhost:8080/",
          "height": 294
        },
        "outputId": "6d13cb6b-6d86-480d-dd2e-50936f2a40b1"
      },
      "source": [
        "plt.hist(data[data.isFraud==False].transactionAmount,bins=100,label='not Fraud',density=True, color='green')\r\n",
        "plt.title(\"Distribution of Transaction Amount vs Num of Samples\")\r\n",
        "plt.ylabel(\"num of samples\")\r\n",
        "plt.xlabel(\"transaction amount\")\r\n",
        "plt.legend()\r\n",
        "plt.show()  "
      ],
      "execution_count": null,
      "outputs": [
        {
          "output_type": "display_data",
          "data": {
            "image/png": "[encoded data removed]",
            "text/plain": [
              "<Figure size 432x288 with 1 Axes>"
            ]
          },
          "metadata": {
            "tags": [],
            "needs_background": "light"
          }
        }
      ]
    },
    {
      "cell_type": "code",
      "metadata": {
        "id": "hYldXHcHGB7C",
        "colab": {
          "base_uri": "https://localhost:8080/",
          "height": 294
        },
        "outputId": "e2a6e49a-0f3b-4334-d263-5edc1da72fc1"
      },
      "source": [
        "plt.hist(data[data.isFraud==True].transactionAmount,bins=100,label='Fraud',density=True, color='red')\r\n",
        "plt.title(\"Distribution of Transaction Amount vs Num of Samples\")\r\n",
        "plt.ylabel(\"num of samples\")\r\n",
        "plt.xlabel(\"transaction amount\")\r\n",
        "plt.legend()\r\n",
        "plt.show()"
      ],
      "execution_count": null,
      "outputs": [
        {
          "output_type": "display_data",
          "data": {
            "image/png": "[encoded data removed]",
            "text/plain": [
              "<Figure size 432x288 with 1 Axes>"
            ]
          },
          "metadata": {
            "tags": [],
            "needs_background": "light"
          }
        }
      ]
    },
    {
      "cell_type": "code",
      "metadata": {
        "id": "stfFaq0xETTV",
        "colab": {
          "base_uri": "https://localhost:8080/"
        },
        "outputId": "f6914c1b-b73b-4282-bb90-b46866119f00"
      },
      "source": [
        "data['merchantName'].value_counts()"
      ],
      "execution_count": null,
      "outputs": [
        {
          "output_type": "execute_result",
          "data": {
            "text/plain": [
              "Uber                        24860\n",
              "Lyft                        24810\n",
              "staples.com                 16516\n",
              "oldnavy.com                 16483\n",
              "alibaba.com                 16426\n",
              "                            ...  \n",
              "Golds Gym #956354               2\n",
              "Boost Mobile #104815            2\n",
              "EZ Wireless #149871             1\n",
              "Curves #849125                  1\n",
              "TMobile Wireless #602341        1\n",
              "Name: merchantName, Length: 2490, dtype: int64"
            ]
          },
          "metadata": {
            "tags": []
          },
          "execution_count": 24
        }
      ]
    },
    {
      "cell_type": "markdown",
      "metadata": {
        "id": "K9CFdXz4jng_"
      },
      "source": [
        "There are in all **2490** unique Merchants present in the entire dataset\r\n",
        "\r\n",
        "Top 5 Merchants with **highest no of Fraudulent transactions** are as follows:(Refer chart below)\r\n",
        "\r\n",
        "\r\n",
        "1.   **Lyft**\r\n",
        "2.   **Ebay.com**\r\n",
        "3.   **Fresh Flowers**\r\n",
        "4.   **Uber.com**\r\n",
        "5.   **Walmart.com**\r\n"
      ]
    },
    {
      "cell_type": "code",
      "metadata": {
        "colab": {
          "base_uri": "https://localhost:8080/",
          "height": 644
        },
        "id": "XlqdUmxKd_Ni",
        "outputId": "47abcced-9535-4e27-d35d-5a1b18bfb755"
      },
      "source": [
        "clients = data[data['isFraud'] == True]\r\n",
        "sns.set(rc={'figure.figsize':(10,10)})\r\n",
        "\r\n",
        "top25= clients['merchantName'].value_counts().head(25)\r\n",
        "sns.barplot(y=list(range(25)), x=top25.values, orient='h')\r\n",
        "\r\n",
        "plt.title('Top 10 Accounts with the Most Fraudulent Transactions')\r\n",
        "plt.xlabel('Fraudulent Transactions')\r\n",
        "plt.yticks(ticks=list(range(25)), labels=top25.index.tolist())\r\n",
        "plt.ylabel('Account Number')\r\n"
      ],
      "execution_count": null,
      "outputs": [
        {
          "output_type": "execute_result",
          "data": {
            "text/plain": [
              "Text(0, 0.5, 'Account Number')"
            ]
          },
          "metadata": {
            "tags": []
          },
          "execution_count": 25
        },
        {
          "output_type": "display_data",
          "data": {
            "image/png": "[encoded data removed]",
            "text/plain": [
              "<Figure size 720x720 with 1 Axes>"
            ]
          },
          "metadata": {
            "tags": []
          }
        }
      ]
    },
    {
      "cell_type": "code",
      "metadata": {
        "id": "IEQbA298uc7f",
        "colab": {
          "base_uri": "https://localhost:8080/",
          "height": 644
        },
        "outputId": "302b4568-f4ac-496e-9c06-3f60e16e6c4c"
      },
      "source": [
        "fraudTrans = data[data['isFraud'] == True]\r\n",
        "\r\n",
        "top10= fraudTrans['accountNumber'].value_counts().head(10)\r\n",
        "sns.barplot(y=list(range(10)), x=top10.values, orient='h')\r\n",
        "\r\n",
        "plt.title('Top 10 Accounts with the Most Fraudulent Transactions')\r\n",
        "plt.xlabel('Fraudulent Transactions')\r\n",
        "plt.yticks(ticks=list(range(10)), labels=top10.index.tolist())\r\n",
        "plt.ylabel('Account Number')\r\n"
      ],
      "execution_count": null,
      "outputs": [
        {
          "output_type": "execute_result",
          "data": {
            "text/plain": [
              "Text(0, 0.5, 'Account Number')"
            ]
          },
          "metadata": {
            "tags": []
          },
          "execution_count": 26
        },
        {
          "output_type": "display_data",
          "data": {
            "image/png": "[encoded data removed]",
            "text/plain": [
              "<Figure size 720x720 with 1 Axes>"
            ]
          },
          "metadata": {
            "tags": []
          }
        }
      ]
    },
    {
      "cell_type": "markdown",
      "metadata": {
        "id": "dC-tE_yYlLA8"
      },
      "source": [
        "Account No **380680241** has the highest no of fraud transactions "
      ]
    },
    {
      "cell_type": "markdown",
      "metadata": {
        "id": "GIcp096fD3Qh"
      },
      "source": [
        "# 3. Data Wrangling - Duplicate Transactions\r\n"
      ]
    },
    {
      "cell_type": "code",
      "metadata": {
        "id": "KiR0AFTbpk3X",
        "colab": {
          "base_uri": "https://localhost:8080/"
        },
        "outputId": "13e8d8a0-bb42-4238-8b77-5bebdd2924bb"
      },
      "source": [
        "data['transactionType'].value_counts()"
      ],
      "execution_count": null,
      "outputs": [
        {
          "output_type": "execute_result",
          "data": {
            "text/plain": [
              "PURCHASE    743709\n",
              "REVERSAL     19731\n",
              "               698\n",
              "Name: transactionType, dtype: int64"
            ]
          },
          "metadata": {
            "tags": []
          },
          "execution_count": 27
        }
      ]
    },
    {
      "cell_type": "code",
      "metadata": {
        "colab": {
          "base_uri": "https://localhost:8080/"
        },
        "id": "MSWDjZPa8TQy",
        "outputId": "776774c1-de2b-49f5-9354-3e1598b755ce"
      },
      "source": [
        "data['isFraud'].value_counts()"
      ],
      "execution_count": null,
      "outputs": [
        {
          "output_type": "execute_result",
          "data": {
            "text/plain": [
              "False    751843\n",
              "True      12295\n",
              "Name: isFraud, dtype: int64"
            ]
          },
          "metadata": {
            "tags": []
          },
          "execution_count": 28
        }
      ]
    },
    {
      "cell_type": "code",
      "metadata": {
        "id": "q9Ec-J7zvGRt",
        "colab": {
          "base_uri": "https://localhost:8080/"
        },
        "outputId": "28cde08f-21ab-4e14-86da-a6f7eabdc745"
      },
      "source": [
        "revTrans=data[data['transactionType']=='REVERSAL']\r\n",
        "total=revTrans['transactionAmount'].sum()\r\n",
        "total"
      ],
      "execution_count": null,
      "outputs": [
        {
          "output_type": "execute_result",
          "data": {
            "text/plain": [
              "2821792.4999999995"
            ]
          },
          "metadata": {
            "tags": []
          },
          "execution_count": 29
        }
      ]
    },
    {
      "cell_type": "code",
      "metadata": {
        "id": "XIkwJz5gwOTv",
        "colab": {
          "base_uri": "https://localhost:8080/"
        },
        "outputId": "1c34623b-cb9a-4d68-ba17-35bbcb78bd66"
      },
      "source": [
        "FTrans=data[data['isFraud']==True]\r\n",
        "total2=FTrans['transactionAmount'].sum()\r\n",
        "total2"
      ],
      "execution_count": null,
      "outputs": [
        {
          "output_type": "execute_result",
          "data": {
            "text/plain": [
              "2796505.8899999997"
            ]
          },
          "metadata": {
            "tags": []
          },
          "execution_count": 30
        }
      ]
    },
    {
      "cell_type": "markdown",
      "metadata": {
        "id": "Cu-sw8MLm_NE"
      },
      "source": [
        "## Reversed and Fraudulent Transaction Estimates\r\n",
        "1.   Number of reversed transactions: **19,731 transactions**\r\n",
        "2.   Total dollar estimate for reversed transactions:   **2,821,792.5 USD**\r\n",
        "3.   Number of Fraudulent transactions: **12,295 transactions**\r\n",
        "4.   Total dollar estimate lost in Fraudulent transactions:   **2,796,505.89 USD**\r\n",
        "\r\n",
        "These transactions sums are considering only the transactions left after the initial cleaning of the dataset"
      ]
    },
    {
      "cell_type": "markdown",
      "metadata": {
        "id": "PUAaPnWf3nXm"
      },
      "source": [
        "##Multiswipe Transactions\r\n",
        "Multi-swipe, where a vendor accidentally charges a customer's card multiple times within a short time span.\r\n",
        "For simplification the any repeated transactions within the time period of 60 mins is assumed to be a multiswipe transaction"
      ]
    },
    {
      "cell_type": "markdown",
      "metadata": {
        "id": "rM9HGIrPvehc"
      },
      "source": [
        "Total dollar Estimate for Multi Swipe transactions- **1304157.0 USD**\r\n"
      ]
    },
    {
      "cell_type": "markdown",
      "metadata": {
        "id": "TXhr-K-r0jzB"
      },
      "source": [
        "The **approach for finding the multiswipe transactions** are as follows:\r\n",
        "\r\n",
        "1.   First convert all the transactionDateTime to its corresponding dateTime for easier calculation.\r\n",
        "2.   Then group the transactions by Account Number, Merchant Id and Transaction Amount and then sort them in descending order of DateTime (latest is first)\r\n",
        "3.   The compute the time difference between each of the subsequent requests (in seconds)\r\n",
        "4.   Then flag all the transactions that have a time gap of less than an hour (3600 secs)\r\n",
        "5.   Filter all the multiswipe requests and then compute the sum of all the transactionAmount\r\n",
        "\r\n"
      ]
    },
    {
      "cell_type": "markdown",
      "metadata": {
        "id": "3GvwF_k0AR9M"
      },
      "source": [
        "### Interesting deduction\r\n",
        "It is noticed that most of the Reversal transactions are followed after Multiswipe or Fraudulent transactions made between a given pair of CustomerId and merchant\r\n"
      ]
    },
    {
      "cell_type": "code",
      "metadata": {
        "colab": {
          "base_uri": "https://localhost:8080/"
        },
        "id": "VPHuxjIbLMDJ",
        "outputId": "4209b5fe-6347-4083-8bb0-9ddda968b05b"
      },
      "source": [
        "data['transactionDateTime'] = pd.to_datetime(data['transactionDateTime'], infer_datetime_format=True)\r\n",
        "data['transactionDateTime']"
      ],
      "execution_count": null,
      "outputs": [
        {
          "output_type": "execute_result",
          "data": {
            "text/plain": [
              "0        2016-08-13 14:27:32\n",
              "1        2016-10-11 05:05:54\n",
              "2        2016-11-08 09:18:39\n",
              "3        2016-12-10 02:14:50\n",
              "4        2016-03-24 21:04:46\n",
              "                 ...        \n",
              "764133   2016-12-22 18:44:12\n",
              "764134   2016-12-25 16:20:34\n",
              "764135   2016-12-27 15:46:24\n",
              "764136   2016-12-29 00:30:55\n",
              "764137   2016-12-30 20:10:29\n",
              "Name: transactionDateTime, Length: 764138, dtype: datetime64[ns]"
            ]
          },
          "metadata": {
            "tags": []
          },
          "execution_count": 31
        }
      ]
    },
    {
      "cell_type": "code",
      "metadata": {
        "id": "hNVcX3Yj3lgP"
      },
      "source": [
        "# duplicated = data[data.duplicated(['accountNumber', 'customerId', 'transactionAmount', 'merchantName', 'transactionType'], keep=False)]"
      ],
      "execution_count": null,
      "outputs": []
    },
    {
      "cell_type": "code",
      "metadata": {
        "id": "L8mo2NjZGTcb"
      },
      "source": [
        "# purchase = duplicated[duplicated.transactionType == 'PURCHASE']\n",
        "# purchase.sort_values(['accountNumber', 'customerId', 'merchantName', 'transactionDateTime'])\n",
        "# purchase.head()"
      ],
      "execution_count": null,
      "outputs": []
    },
    {
      "cell_type": "code",
      "metadata": {
        "id": "nUg_jjHjZfRz",
        "colab": {
          "base_uri": "https://localhost:8080/",
          "height": 443
        },
        "outputId": "2acc3653-d0d2-4a2a-8711-9484d62c982a"
      },
      "source": [
        "data2=data\r\n",
        "data2.sort_values(['accountNumber','merchantName','transactionDateTime'])\r\n",
        "data2"
      ],
      "execution_count": null,
      "outputs": [
        {
          "output_type": "execute_result",
          "data": {
            "text/html": [
              "<div>\n",
              "<style scoped>\n",
              "    .dataframe tbody tr th:only-of-type {\n",
              "        vertical-align: middle;\n",
              "    }\n",
              "\n",
              "    .dataframe tbody tr th {\n",
              "        vertical-align: top;\n",
              "    }\n",
              "\n",
              "    .dataframe thead th {\n",
              "        text-align: right;\n",
              "    }\n",
              "</style>\n",
              "<table border=\"1\" class=\"dataframe\">\n",
              "  <thead>\n",
              "    <tr style=\"text-align: right;\">\n",
              "      <th></th>\n",
              "      <th>accountNumber</th>\n",
              "      <th>customerId</th>\n",
              "      <th>creditLimit</th>\n",
              "      <th>availableMoney</th>\n",
              "      <th>transactionDateTime</th>\n",
              "      <th>transactionAmount</th>\n",
              "      <th>merchantName</th>\n",
              "      <th>acqCountry</th>\n",
              "      <th>merchantCountryCode</th>\n",
              "      <th>posEntryMode</th>\n",
              "      <th>posConditionCode</th>\n",
              "      <th>merchantCategoryCode</th>\n",
              "      <th>currentExpDate</th>\n",
              "      <th>accountOpenDate</th>\n",
              "      <th>dateOfLastAddressChange</th>\n",
              "      <th>cardCVV</th>\n",
              "      <th>cardLast4Digits</th>\n",
              "      <th>transactionType</th>\n",
              "      <th>currentBalance</th>\n",
              "      <th>cardPresent</th>\n",
              "      <th>expirationDateKeyInMatch</th>\n",
              "      <th>isFraud</th>\n",
              "    </tr>\n",
              "  </thead>\n",
              "  <tbody>\n",
              "    <tr>\n",
              "      <th>0</th>\n",
              "      <td>737265056</td>\n",
              "      <td>737265056</td>\n",
              "      <td>5000</td>\n",
              "      <td>5000.00</td>\n",
              "      <td>2016-08-13 14:27:32</td>\n",
              "      <td>98.55</td>\n",
              "      <td>Uber</td>\n",
              "      <td>US</td>\n",
              "      <td>US</td>\n",
              "      <td>02</td>\n",
              "      <td>01</td>\n",
              "      <td>rideshare</td>\n",
              "      <td>06/2023</td>\n",
              "      <td>2015-03-14</td>\n",
              "      <td>2015-03-14</td>\n",
              "      <td>414</td>\n",
              "      <td>1803</td>\n",
              "      <td>PURCHASE</td>\n",
              "      <td>0.00</td>\n",
              "      <td>False</td>\n",
              "      <td>False</td>\n",
              "      <td>False</td>\n",
              "    </tr>\n",
              "    <tr>\n",
              "      <th>1</th>\n",
              "      <td>737265056</td>\n",
              "      <td>737265056</td>\n",
              "      <td>5000</td>\n",
              "      <td>5000.00</td>\n",
              "      <td>2016-10-11 05:05:54</td>\n",
              "      <td>74.51</td>\n",
              "      <td>AMC #191138</td>\n",
              "      <td>US</td>\n",
              "      <td>US</td>\n",
              "      <td>09</td>\n",
              "      <td>01</td>\n",
              "      <td>entertainment</td>\n",
              "      <td>02/2024</td>\n",
              "      <td>2015-03-14</td>\n",
              "      <td>2015-03-14</td>\n",
              "      <td>486</td>\n",
              "      <td>767</td>\n",
              "      <td>PURCHASE</td>\n",
              "      <td>0.00</td>\n",
              "      <td>True</td>\n",
              "      <td>False</td>\n",
              "      <td>False</td>\n",
              "    </tr>\n",
              "    <tr>\n",
              "      <th>2</th>\n",
              "      <td>737265056</td>\n",
              "      <td>737265056</td>\n",
              "      <td>5000</td>\n",
              "      <td>5000.00</td>\n",
              "      <td>2016-11-08 09:18:39</td>\n",
              "      <td>7.47</td>\n",
              "      <td>Play Store</td>\n",
              "      <td>US</td>\n",
              "      <td>US</td>\n",
              "      <td>09</td>\n",
              "      <td>01</td>\n",
              "      <td>mobileapps</td>\n",
              "      <td>08/2025</td>\n",
              "      <td>2015-03-14</td>\n",
              "      <td>2015-03-14</td>\n",
              "      <td>486</td>\n",
              "      <td>767</td>\n",
              "      <td>PURCHASE</td>\n",
              "      <td>0.00</td>\n",
              "      <td>False</td>\n",
              "      <td>False</td>\n",
              "      <td>False</td>\n",
              "    </tr>\n",
              "    <tr>\n",
              "      <th>3</th>\n",
              "      <td>737265056</td>\n",
              "      <td>737265056</td>\n",
              "      <td>5000</td>\n",
              "      <td>5000.00</td>\n",
              "      <td>2016-12-10 02:14:50</td>\n",
              "      <td>7.47</td>\n",
              "      <td>Play Store</td>\n",
              "      <td>US</td>\n",
              "      <td>US</td>\n",
              "      <td>09</td>\n",
              "      <td>01</td>\n",
              "      <td>mobileapps</td>\n",
              "      <td>08/2025</td>\n",
              "      <td>2015-03-14</td>\n",
              "      <td>2015-03-14</td>\n",
              "      <td>486</td>\n",
              "      <td>767</td>\n",
              "      <td>PURCHASE</td>\n",
              "      <td>0.00</td>\n",
              "      <td>False</td>\n",
              "      <td>False</td>\n",
              "      <td>False</td>\n",
              "    </tr>\n",
              "    <tr>\n",
              "      <th>4</th>\n",
              "      <td>830329091</td>\n",
              "      <td>830329091</td>\n",
              "      <td>5000</td>\n",
              "      <td>5000.00</td>\n",
              "      <td>2016-03-24 21:04:46</td>\n",
              "      <td>71.18</td>\n",
              "      <td>Tim Hortons #947751</td>\n",
              "      <td>US</td>\n",
              "      <td>US</td>\n",
              "      <td>02</td>\n",
              "      <td>01</td>\n",
              "      <td>fastfood</td>\n",
              "      <td>10/2029</td>\n",
              "      <td>2015-08-06</td>\n",
              "      <td>2015-08-06</td>\n",
              "      <td>885</td>\n",
              "      <td>3143</td>\n",
              "      <td>PURCHASE</td>\n",
              "      <td>0.00</td>\n",
              "      <td>True</td>\n",
              "      <td>False</td>\n",
              "      <td>False</td>\n",
              "    </tr>\n",
              "    <tr>\n",
              "      <th>...</th>\n",
              "      <td>...</td>\n",
              "      <td>...</td>\n",
              "      <td>...</td>\n",
              "      <td>...</td>\n",
              "      <td>...</td>\n",
              "      <td>...</td>\n",
              "      <td>...</td>\n",
              "      <td>...</td>\n",
              "      <td>...</td>\n",
              "      <td>...</td>\n",
              "      <td>...</td>\n",
              "      <td>...</td>\n",
              "      <td>...</td>\n",
              "      <td>...</td>\n",
              "      <td>...</td>\n",
              "      <td>...</td>\n",
              "      <td>...</td>\n",
              "      <td>...</td>\n",
              "      <td>...</td>\n",
              "      <td>...</td>\n",
              "      <td>...</td>\n",
              "      <td>...</td>\n",
              "    </tr>\n",
              "    <tr>\n",
              "      <th>764133</th>\n",
              "      <td>732852505</td>\n",
              "      <td>732852505</td>\n",
              "      <td>50000</td>\n",
              "      <td>48904.96</td>\n",
              "      <td>2016-12-22 18:44:12</td>\n",
              "      <td>119.92</td>\n",
              "      <td>Lyft</td>\n",
              "      <td>US</td>\n",
              "      <td>US</td>\n",
              "      <td>90</td>\n",
              "      <td>01</td>\n",
              "      <td>rideshare</td>\n",
              "      <td>12/2022</td>\n",
              "      <td>2012-08-23</td>\n",
              "      <td>2012-08-23</td>\n",
              "      <td>936</td>\n",
              "      <td>3783</td>\n",
              "      <td>PURCHASE</td>\n",
              "      <td>1095.04</td>\n",
              "      <td>False</td>\n",
              "      <td>False</td>\n",
              "      <td>False</td>\n",
              "    </tr>\n",
              "    <tr>\n",
              "      <th>764134</th>\n",
              "      <td>732852505</td>\n",
              "      <td>732852505</td>\n",
              "      <td>50000</td>\n",
              "      <td>48785.04</td>\n",
              "      <td>2016-12-25 16:20:34</td>\n",
              "      <td>18.89</td>\n",
              "      <td>hulu.com</td>\n",
              "      <td>US</td>\n",
              "      <td>US</td>\n",
              "      <td>09</td>\n",
              "      <td>01</td>\n",
              "      <td>online_subscriptions</td>\n",
              "      <td>08/2023</td>\n",
              "      <td>2012-08-23</td>\n",
              "      <td>2012-08-23</td>\n",
              "      <td>939</td>\n",
              "      <td>3388</td>\n",
              "      <td>PURCHASE</td>\n",
              "      <td>1214.96</td>\n",
              "      <td>False</td>\n",
              "      <td>False</td>\n",
              "      <td>False</td>\n",
              "    </tr>\n",
              "    <tr>\n",
              "      <th>764135</th>\n",
              "      <td>732852505</td>\n",
              "      <td>732852505</td>\n",
              "      <td>50000</td>\n",
              "      <td>48766.15</td>\n",
              "      <td>2016-12-27 15:46:24</td>\n",
              "      <td>49.43</td>\n",
              "      <td>Lyft</td>\n",
              "      <td>US</td>\n",
              "      <td>US</td>\n",
              "      <td>02</td>\n",
              "      <td>01</td>\n",
              "      <td>rideshare</td>\n",
              "      <td>08/2025</td>\n",
              "      <td>2012-08-23</td>\n",
              "      <td>2012-08-23</td>\n",
              "      <td>936</td>\n",
              "      <td>3783</td>\n",
              "      <td>PURCHASE</td>\n",
              "      <td>1233.85</td>\n",
              "      <td>False</td>\n",
              "      <td>False</td>\n",
              "      <td>False</td>\n",
              "    </tr>\n",
              "    <tr>\n",
              "      <th>764136</th>\n",
              "      <td>732852505</td>\n",
              "      <td>732852505</td>\n",
              "      <td>50000</td>\n",
              "      <td>48716.72</td>\n",
              "      <td>2016-12-29 00:30:55</td>\n",
              "      <td>49.89</td>\n",
              "      <td>walmart.com</td>\n",
              "      <td>US</td>\n",
              "      <td>US</td>\n",
              "      <td>09</td>\n",
              "      <td>99</td>\n",
              "      <td>online_retail</td>\n",
              "      <td>07/2022</td>\n",
              "      <td>2012-08-23</td>\n",
              "      <td>2012-08-23</td>\n",
              "      <td>939</td>\n",
              "      <td>3388</td>\n",
              "      <td>PURCHASE</td>\n",
              "      <td>1283.28</td>\n",
              "      <td>False</td>\n",
              "      <td>False</td>\n",
              "      <td>False</td>\n",
              "    </tr>\n",
              "    <tr>\n",
              "      <th>764137</th>\n",
              "      <td>732852505</td>\n",
              "      <td>732852505</td>\n",
              "      <td>50000</td>\n",
              "      <td>48666.83</td>\n",
              "      <td>2016-12-30 20:10:29</td>\n",
              "      <td>72.18</td>\n",
              "      <td>Uber</td>\n",
              "      <td>US</td>\n",
              "      <td>US</td>\n",
              "      <td>05</td>\n",
              "      <td>01</td>\n",
              "      <td>rideshare</td>\n",
              "      <td>05/2024</td>\n",
              "      <td>2012-08-23</td>\n",
              "      <td>2012-08-23</td>\n",
              "      <td>939</td>\n",
              "      <td>3388</td>\n",
              "      <td>PURCHASE</td>\n",
              "      <td>1333.17</td>\n",
              "      <td>False</td>\n",
              "      <td>False</td>\n",
              "      <td>False</td>\n",
              "    </tr>\n",
              "  </tbody>\n",
              "</table>\n",
              "<p>764138 rows × 22 columns</p>\n",
              "</div>"
            ],
            "text/plain": [
              "        accountNumber  customerId  ...  expirationDateKeyInMatch  isFraud\n",
              "0           737265056   737265056  ...                     False    False\n",
              "1           737265056   737265056  ...                     False    False\n",
              "2           737265056   737265056  ...                     False    False\n",
              "3           737265056   737265056  ...                     False    False\n",
              "4           830329091   830329091  ...                     False    False\n",
              "...               ...         ...  ...                       ...      ...\n",
              "764133      732852505   732852505  ...                     False    False\n",
              "764134      732852505   732852505  ...                     False    False\n",
              "764135      732852505   732852505  ...                     False    False\n",
              "764136      732852505   732852505  ...                     False    False\n",
              "764137      732852505   732852505  ...                     False    False\n",
              "\n",
              "[764138 rows x 22 columns]"
            ]
          },
          "metadata": {
            "tags": []
          },
          "execution_count": 34
        }
      ]
    },
    {
      "cell_type": "code",
      "metadata": {
        "id": "utAqVq_kZXsx",
        "colab": {
          "base_uri": "https://localhost:8080/",
          "height": 443
        },
        "outputId": "5157132f-0686-47eb-95db-f546d8aba6fb"
      },
      "source": [
        "data2['time_span'] = data2['transactionDateTime'].diff(2).dt.total_seconds()/3600\r\n",
        "multi_purchase = data2.groupby(['accountNumber', 'merchantName', 'transactionAmount'])\r\n",
        "multi_purchase.head()\r\n"
      ],
      "execution_count": null,
      "outputs": [
        {
          "output_type": "execute_result",
          "data": {
            "text/html": [
              "<div>\n",
              "<style scoped>\n",
              "    .dataframe tbody tr th:only-of-type {\n",
              "        vertical-align: middle;\n",
              "    }\n",
              "\n",
              "    .dataframe tbody tr th {\n",
              "        vertical-align: top;\n",
              "    }\n",
              "\n",
              "    .dataframe thead th {\n",
              "        text-align: right;\n",
              "    }\n",
              "</style>\n",
              "<table border=\"1\" class=\"dataframe\">\n",
              "  <thead>\n",
              "    <tr style=\"text-align: right;\">\n",
              "      <th></th>\n",
              "      <th>accountNumber</th>\n",
              "      <th>customerId</th>\n",
              "      <th>creditLimit</th>\n",
              "      <th>availableMoney</th>\n",
              "      <th>transactionDateTime</th>\n",
              "      <th>transactionAmount</th>\n",
              "      <th>merchantName</th>\n",
              "      <th>acqCountry</th>\n",
              "      <th>merchantCountryCode</th>\n",
              "      <th>posEntryMode</th>\n",
              "      <th>posConditionCode</th>\n",
              "      <th>merchantCategoryCode</th>\n",
              "      <th>currentExpDate</th>\n",
              "      <th>accountOpenDate</th>\n",
              "      <th>dateOfLastAddressChange</th>\n",
              "      <th>cardCVV</th>\n",
              "      <th>cardLast4Digits</th>\n",
              "      <th>transactionType</th>\n",
              "      <th>currentBalance</th>\n",
              "      <th>cardPresent</th>\n",
              "      <th>expirationDateKeyInMatch</th>\n",
              "      <th>isFraud</th>\n",
              "      <th>time_span</th>\n",
              "    </tr>\n",
              "  </thead>\n",
              "  <tbody>\n",
              "    <tr>\n",
              "      <th>0</th>\n",
              "      <td>737265056</td>\n",
              "      <td>737265056</td>\n",
              "      <td>5000</td>\n",
              "      <td>5000.00</td>\n",
              "      <td>2016-08-13 14:27:32</td>\n",
              "      <td>98.55</td>\n",
              "      <td>Uber</td>\n",
              "      <td>US</td>\n",
              "      <td>US</td>\n",
              "      <td>02</td>\n",
              "      <td>01</td>\n",
              "      <td>rideshare</td>\n",
              "      <td>06/2023</td>\n",
              "      <td>2015-03-14</td>\n",
              "      <td>2015-03-14</td>\n",
              "      <td>414</td>\n",
              "      <td>1803</td>\n",
              "      <td>PURCHASE</td>\n",
              "      <td>0.00</td>\n",
              "      <td>False</td>\n",
              "      <td>False</td>\n",
              "      <td>False</td>\n",
              "      <td>NaN</td>\n",
              "    </tr>\n",
              "    <tr>\n",
              "      <th>1</th>\n",
              "      <td>737265056</td>\n",
              "      <td>737265056</td>\n",
              "      <td>5000</td>\n",
              "      <td>5000.00</td>\n",
              "      <td>2016-10-11 05:05:54</td>\n",
              "      <td>74.51</td>\n",
              "      <td>AMC #191138</td>\n",
              "      <td>US</td>\n",
              "      <td>US</td>\n",
              "      <td>09</td>\n",
              "      <td>01</td>\n",
              "      <td>entertainment</td>\n",
              "      <td>02/2024</td>\n",
              "      <td>2015-03-14</td>\n",
              "      <td>2015-03-14</td>\n",
              "      <td>486</td>\n",
              "      <td>767</td>\n",
              "      <td>PURCHASE</td>\n",
              "      <td>0.00</td>\n",
              "      <td>True</td>\n",
              "      <td>False</td>\n",
              "      <td>False</td>\n",
              "      <td>NaN</td>\n",
              "    </tr>\n",
              "    <tr>\n",
              "      <th>2</th>\n",
              "      <td>737265056</td>\n",
              "      <td>737265056</td>\n",
              "      <td>5000</td>\n",
              "      <td>5000.00</td>\n",
              "      <td>2016-11-08 09:18:39</td>\n",
              "      <td>7.47</td>\n",
              "      <td>Play Store</td>\n",
              "      <td>US</td>\n",
              "      <td>US</td>\n",
              "      <td>09</td>\n",
              "      <td>01</td>\n",
              "      <td>mobileapps</td>\n",
              "      <td>08/2025</td>\n",
              "      <td>2015-03-14</td>\n",
              "      <td>2015-03-14</td>\n",
              "      <td>486</td>\n",
              "      <td>767</td>\n",
              "      <td>PURCHASE</td>\n",
              "      <td>0.00</td>\n",
              "      <td>False</td>\n",
              "      <td>False</td>\n",
              "      <td>False</td>\n",
              "      <td>2082.851944</td>\n",
              "    </tr>\n",
              "    <tr>\n",
              "      <th>3</th>\n",
              "      <td>737265056</td>\n",
              "      <td>737265056</td>\n",
              "      <td>5000</td>\n",
              "      <td>5000.00</td>\n",
              "      <td>2016-12-10 02:14:50</td>\n",
              "      <td>7.47</td>\n",
              "      <td>Play Store</td>\n",
              "      <td>US</td>\n",
              "      <td>US</td>\n",
              "      <td>09</td>\n",
              "      <td>01</td>\n",
              "      <td>mobileapps</td>\n",
              "      <td>08/2025</td>\n",
              "      <td>2015-03-14</td>\n",
              "      <td>2015-03-14</td>\n",
              "      <td>486</td>\n",
              "      <td>767</td>\n",
              "      <td>PURCHASE</td>\n",
              "      <td>0.00</td>\n",
              "      <td>False</td>\n",
              "      <td>False</td>\n",
              "      <td>False</td>\n",
              "      <td>1437.148889</td>\n",
              "    </tr>\n",
              "    <tr>\n",
              "      <th>4</th>\n",
              "      <td>830329091</td>\n",
              "      <td>830329091</td>\n",
              "      <td>5000</td>\n",
              "      <td>5000.00</td>\n",
              "      <td>2016-03-24 21:04:46</td>\n",
              "      <td>71.18</td>\n",
              "      <td>Tim Hortons #947751</td>\n",
              "      <td>US</td>\n",
              "      <td>US</td>\n",
              "      <td>02</td>\n",
              "      <td>01</td>\n",
              "      <td>fastfood</td>\n",
              "      <td>10/2029</td>\n",
              "      <td>2015-08-06</td>\n",
              "      <td>2015-08-06</td>\n",
              "      <td>885</td>\n",
              "      <td>3143</td>\n",
              "      <td>PURCHASE</td>\n",
              "      <td>0.00</td>\n",
              "      <td>True</td>\n",
              "      <td>False</td>\n",
              "      <td>False</td>\n",
              "      <td>-5484.231389</td>\n",
              "    </tr>\n",
              "    <tr>\n",
              "      <th>...</th>\n",
              "      <td>...</td>\n",
              "      <td>...</td>\n",
              "      <td>...</td>\n",
              "      <td>...</td>\n",
              "      <td>...</td>\n",
              "      <td>...</td>\n",
              "      <td>...</td>\n",
              "      <td>...</td>\n",
              "      <td>...</td>\n",
              "      <td>...</td>\n",
              "      <td>...</td>\n",
              "      <td>...</td>\n",
              "      <td>...</td>\n",
              "      <td>...</td>\n",
              "      <td>...</td>\n",
              "      <td>...</td>\n",
              "      <td>...</td>\n",
              "      <td>...</td>\n",
              "      <td>...</td>\n",
              "      <td>...</td>\n",
              "      <td>...</td>\n",
              "      <td>...</td>\n",
              "      <td>...</td>\n",
              "    </tr>\n",
              "    <tr>\n",
              "      <th>764133</th>\n",
              "      <td>732852505</td>\n",
              "      <td>732852505</td>\n",
              "      <td>50000</td>\n",
              "      <td>48904.96</td>\n",
              "      <td>2016-12-22 18:44:12</td>\n",
              "      <td>119.92</td>\n",
              "      <td>Lyft</td>\n",
              "      <td>US</td>\n",
              "      <td>US</td>\n",
              "      <td>90</td>\n",
              "      <td>01</td>\n",
              "      <td>rideshare</td>\n",
              "      <td>12/2022</td>\n",
              "      <td>2012-08-23</td>\n",
              "      <td>2012-08-23</td>\n",
              "      <td>936</td>\n",
              "      <td>3783</td>\n",
              "      <td>PURCHASE</td>\n",
              "      <td>1095.04</td>\n",
              "      <td>False</td>\n",
              "      <td>False</td>\n",
              "      <td>False</td>\n",
              "      <td>87.305278</td>\n",
              "    </tr>\n",
              "    <tr>\n",
              "      <th>764134</th>\n",
              "      <td>732852505</td>\n",
              "      <td>732852505</td>\n",
              "      <td>50000</td>\n",
              "      <td>48785.04</td>\n",
              "      <td>2016-12-25 16:20:34</td>\n",
              "      <td>18.89</td>\n",
              "      <td>hulu.com</td>\n",
              "      <td>US</td>\n",
              "      <td>US</td>\n",
              "      <td>09</td>\n",
              "      <td>01</td>\n",
              "      <td>online_subscriptions</td>\n",
              "      <td>08/2023</td>\n",
              "      <td>2012-08-23</td>\n",
              "      <td>2012-08-23</td>\n",
              "      <td>939</td>\n",
              "      <td>3388</td>\n",
              "      <td>PURCHASE</td>\n",
              "      <td>1214.96</td>\n",
              "      <td>False</td>\n",
              "      <td>False</td>\n",
              "      <td>False</td>\n",
              "      <td>80.886389</td>\n",
              "    </tr>\n",
              "    <tr>\n",
              "      <th>764135</th>\n",
              "      <td>732852505</td>\n",
              "      <td>732852505</td>\n",
              "      <td>50000</td>\n",
              "      <td>48766.15</td>\n",
              "      <td>2016-12-27 15:46:24</td>\n",
              "      <td>49.43</td>\n",
              "      <td>Lyft</td>\n",
              "      <td>US</td>\n",
              "      <td>US</td>\n",
              "      <td>02</td>\n",
              "      <td>01</td>\n",
              "      <td>rideshare</td>\n",
              "      <td>08/2025</td>\n",
              "      <td>2012-08-23</td>\n",
              "      <td>2012-08-23</td>\n",
              "      <td>936</td>\n",
              "      <td>3783</td>\n",
              "      <td>PURCHASE</td>\n",
              "      <td>1233.85</td>\n",
              "      <td>False</td>\n",
              "      <td>False</td>\n",
              "      <td>False</td>\n",
              "      <td>117.036667</td>\n",
              "    </tr>\n",
              "    <tr>\n",
              "      <th>764136</th>\n",
              "      <td>732852505</td>\n",
              "      <td>732852505</td>\n",
              "      <td>50000</td>\n",
              "      <td>48716.72</td>\n",
              "      <td>2016-12-29 00:30:55</td>\n",
              "      <td>49.89</td>\n",
              "      <td>walmart.com</td>\n",
              "      <td>US</td>\n",
              "      <td>US</td>\n",
              "      <td>09</td>\n",
              "      <td>99</td>\n",
              "      <td>online_retail</td>\n",
              "      <td>07/2022</td>\n",
              "      <td>2012-08-23</td>\n",
              "      <td>2012-08-23</td>\n",
              "      <td>939</td>\n",
              "      <td>3388</td>\n",
              "      <td>PURCHASE</td>\n",
              "      <td>1283.28</td>\n",
              "      <td>False</td>\n",
              "      <td>False</td>\n",
              "      <td>False</td>\n",
              "      <td>80.172500</td>\n",
              "    </tr>\n",
              "    <tr>\n",
              "      <th>764137</th>\n",
              "      <td>732852505</td>\n",
              "      <td>732852505</td>\n",
              "      <td>50000</td>\n",
              "      <td>48666.83</td>\n",
              "      <td>2016-12-30 20:10:29</td>\n",
              "      <td>72.18</td>\n",
              "      <td>Uber</td>\n",
              "      <td>US</td>\n",
              "      <td>US</td>\n",
              "      <td>05</td>\n",
              "      <td>01</td>\n",
              "      <td>rideshare</td>\n",
              "      <td>05/2024</td>\n",
              "      <td>2012-08-23</td>\n",
              "      <td>2012-08-23</td>\n",
              "      <td>939</td>\n",
              "      <td>3388</td>\n",
              "      <td>PURCHASE</td>\n",
              "      <td>1333.17</td>\n",
              "      <td>False</td>\n",
              "      <td>False</td>\n",
              "      <td>False</td>\n",
              "      <td>76.401389</td>\n",
              "    </tr>\n",
              "  </tbody>\n",
              "</table>\n",
              "<p>744369 rows × 23 columns</p>\n",
              "</div>"
            ],
            "text/plain": [
              "        accountNumber  customerId  ...  isFraud    time_span\n",
              "0           737265056   737265056  ...    False          NaN\n",
              "1           737265056   737265056  ...    False          NaN\n",
              "2           737265056   737265056  ...    False  2082.851944\n",
              "3           737265056   737265056  ...    False  1437.148889\n",
              "4           830329091   830329091  ...    False -5484.231389\n",
              "...               ...         ...  ...      ...          ...\n",
              "764133      732852505   732852505  ...    False    87.305278\n",
              "764134      732852505   732852505  ...    False    80.886389\n",
              "764135      732852505   732852505  ...    False   117.036667\n",
              "764136      732852505   732852505  ...    False    80.172500\n",
              "764137      732852505   732852505  ...    False    76.401389\n",
              "\n",
              "[744369 rows x 23 columns]"
            ]
          },
          "metadata": {
            "tags": []
          },
          "execution_count": 35
        }
      ]
    },
    {
      "cell_type": "code",
      "metadata": {
        "id": "ktnDi605TvRe"
      },
      "source": [
        "# def span(df):\r\n",
        "#     df['time_span'] = df[\"transactionDateTime\"].diff(1).dt.total_seconds() / 3600\r\n",
        "#     return df \r\n",
        "# mp = data2[data2.groupby(['accountNumber', 'merchantName', 'transactionAmount'])['time_span'].transform('count') < 1]\r\n",
        "# mp"
      ],
      "execution_count": null,
      "outputs": []
    },
    {
      "cell_type": "code",
      "metadata": {
        "id": "oRJJerYXVf73"
      },
      "source": [
        "# mp = data2[data2.groupby(['accountNumber', 'merchantName', 'transactionAmount'])['time_span'].filter(lambda x:x<0)]\r\n",
        "\r\n",
        "# multi_swipe = multi_purchase[multi_purchase.time_span < 1]\r\n",
        "# multi_swipe.head()\r\n"
      ],
      "execution_count": null,
      "outputs": []
    },
    {
      "cell_type": "code",
      "metadata": {
        "colab": {
          "base_uri": "https://localhost:8080/"
        },
        "id": "O76lvE_tMZNG",
        "outputId": "743af29c-60b5-4a9b-c75b-d72bdddb7b3b"
      },
      "source": [
        "multi_purchase = data.groupby(['accountNumber', 'merchantName', 'transactionAmount'])\r\n",
        "multi_purchase['time_span'].head()"
      ],
      "execution_count": null,
      "outputs": [
        {
          "output_type": "execute_result",
          "data": {
            "text/plain": [
              "0                 NaN\n",
              "1                 NaN\n",
              "2         2082.851944\n",
              "3         1437.148889\n",
              "4        -5484.231389\n",
              "             ...     \n",
              "764133      87.305278\n",
              "764134      80.886389\n",
              "764135     117.036667\n",
              "764136      80.172500\n",
              "764137      76.401389\n",
              "Name: time_span, Length: 744369, dtype: float64"
            ]
          },
          "metadata": {
            "tags": []
          },
          "execution_count": 38
        }
      ]
    },
    {
      "cell_type": "code",
      "metadata": {
        "id": "i8XUyuc88OaP"
      },
      "source": [
        "#data2 = data.drop(['transactionDateTime'],axis=1)"
      ],
      "execution_count": null,
      "outputs": []
    },
    {
      "cell_type": "code",
      "metadata": {
        "colab": {
          "base_uri": "https://localhost:8080/"
        },
        "id": "n0U0sNqZaiQX",
        "outputId": "12520158-b1b6-4c4d-a7d9-8b209ac9d16e"
      },
      "source": [
        "multi_swipe=data2[data.time_span<0]\r\n",
        "multi_swipe['transactionAmount']"
      ],
      "execution_count": null,
      "outputs": [
        {
          "output_type": "execute_result",
          "data": {
            "text/plain": [
              "4          71.18\n",
              "5          30.76\n",
              "15         30.08\n",
              "16         41.25\n",
              "89         81.66\n",
              "           ...  \n",
              "763857    154.14\n",
              "763897    201.79\n",
              "763898    201.79\n",
              "764030     14.01\n",
              "764031     58.41\n",
              "Name: transactionAmount, Length: 9958, dtype: float64"
            ]
          },
          "metadata": {
            "tags": []
          },
          "execution_count": 40
        }
      ]
    },
    {
      "cell_type": "code",
      "metadata": {
        "colab": {
          "base_uri": "https://localhost:8080/"
        },
        "id": "BKuQSS6IcYMY",
        "outputId": "f4fa1489-2833-4642-bfb0-b79104c4ee30"
      },
      "source": [
        "ms_total=multi_swipe['transactionAmount'].sum()\r\n",
        "ms_total"
      ],
      "execution_count": null,
      "outputs": [
        {
          "output_type": "execute_result",
          "data": {
            "text/plain": [
              "1336805.89"
            ]
          },
          "metadata": {
            "tags": []
          },
          "execution_count": 41
        }
      ]
    },
    {
      "cell_type": "markdown",
      "metadata": {
        "id": "CnjhjBL5FGGr"
      },
      "source": [
        "## 4. Model  - Fraud Prediction"
      ]
    },
    {
      "cell_type": "code",
      "metadata": {
        "id": "cAl4I4_uMq2V"
      },
      "source": [
        "Y = data['isFraud']\r\n",
        "X = data[['creditLimit','availableMoney','transactionAmount','posEntryMode','posConditionCode','merchantCategoryCode','currentBalance','transactionType']]"
      ],
      "execution_count": null,
      "outputs": []
    },
    {
      "cell_type": "code",
      "metadata": {
        "colab": {
          "base_uri": "https://localhost:8080/",
          "height": 406
        },
        "id": "2xMeQL7iJm7i",
        "outputId": "69e73d69-c715-42a7-9800-b79438e1272a"
      },
      "source": [
        "X"
      ],
      "execution_count": null,
      "outputs": [
        {
          "output_type": "execute_result",
          "data": {
            "text/html": [
              "<div>\n",
              "<style scoped>\n",
              "    .dataframe tbody tr th:only-of-type {\n",
              "        vertical-align: middle;\n",
              "    }\n",
              "\n",
              "    .dataframe tbody tr th {\n",
              "        vertical-align: top;\n",
              "    }\n",
              "\n",
              "    .dataframe thead th {\n",
              "        text-align: right;\n",
              "    }\n",
              "</style>\n",
              "<table border=\"1\" class=\"dataframe\">\n",
              "  <thead>\n",
              "    <tr style=\"text-align: right;\">\n",
              "      <th></th>\n",
              "      <th>creditLimit</th>\n",
              "      <th>availableMoney</th>\n",
              "      <th>transactionAmount</th>\n",
              "      <th>posEntryMode</th>\n",
              "      <th>posConditionCode</th>\n",
              "      <th>merchantCategoryCode</th>\n",
              "      <th>currentBalance</th>\n",
              "      <th>transactionType</th>\n",
              "    </tr>\n",
              "  </thead>\n",
              "  <tbody>\n",
              "    <tr>\n",
              "      <th>0</th>\n",
              "      <td>5000</td>\n",
              "      <td>5000.00</td>\n",
              "      <td>98.55</td>\n",
              "      <td>02</td>\n",
              "      <td>01</td>\n",
              "      <td>rideshare</td>\n",
              "      <td>0.00</td>\n",
              "      <td>PURCHASE</td>\n",
              "    </tr>\n",
              "    <tr>\n",
              "      <th>1</th>\n",
              "      <td>5000</td>\n",
              "      <td>5000.00</td>\n",
              "      <td>74.51</td>\n",
              "      <td>09</td>\n",
              "      <td>01</td>\n",
              "      <td>entertainment</td>\n",
              "      <td>0.00</td>\n",
              "      <td>PURCHASE</td>\n",
              "    </tr>\n",
              "    <tr>\n",
              "      <th>2</th>\n",
              "      <td>5000</td>\n",
              "      <td>5000.00</td>\n",
              "      <td>7.47</td>\n",
              "      <td>09</td>\n",
              "      <td>01</td>\n",
              "      <td>mobileapps</td>\n",
              "      <td>0.00</td>\n",
              "      <td>PURCHASE</td>\n",
              "    </tr>\n",
              "    <tr>\n",
              "      <th>3</th>\n",
              "      <td>5000</td>\n",
              "      <td>5000.00</td>\n",
              "      <td>7.47</td>\n",
              "      <td>09</td>\n",
              "      <td>01</td>\n",
              "      <td>mobileapps</td>\n",
              "      <td>0.00</td>\n",
              "      <td>PURCHASE</td>\n",
              "    </tr>\n",
              "    <tr>\n",
              "      <th>4</th>\n",
              "      <td>5000</td>\n",
              "      <td>5000.00</td>\n",
              "      <td>71.18</td>\n",
              "      <td>02</td>\n",
              "      <td>01</td>\n",
              "      <td>fastfood</td>\n",
              "      <td>0.00</td>\n",
              "      <td>PURCHASE</td>\n",
              "    </tr>\n",
              "    <tr>\n",
              "      <th>...</th>\n",
              "      <td>...</td>\n",
              "      <td>...</td>\n",
              "      <td>...</td>\n",
              "      <td>...</td>\n",
              "      <td>...</td>\n",
              "      <td>...</td>\n",
              "      <td>...</td>\n",
              "      <td>...</td>\n",
              "    </tr>\n",
              "    <tr>\n",
              "      <th>764133</th>\n",
              "      <td>50000</td>\n",
              "      <td>48904.96</td>\n",
              "      <td>119.92</td>\n",
              "      <td>90</td>\n",
              "      <td>01</td>\n",
              "      <td>rideshare</td>\n",
              "      <td>1095.04</td>\n",
              "      <td>PURCHASE</td>\n",
              "    </tr>\n",
              "    <tr>\n",
              "      <th>764134</th>\n",
              "      <td>50000</td>\n",
              "      <td>48785.04</td>\n",
              "      <td>18.89</td>\n",
              "      <td>09</td>\n",
              "      <td>01</td>\n",
              "      <td>online_subscriptions</td>\n",
              "      <td>1214.96</td>\n",
              "      <td>PURCHASE</td>\n",
              "    </tr>\n",
              "    <tr>\n",
              "      <th>764135</th>\n",
              "      <td>50000</td>\n",
              "      <td>48766.15</td>\n",
              "      <td>49.43</td>\n",
              "      <td>02</td>\n",
              "      <td>01</td>\n",
              "      <td>rideshare</td>\n",
              "      <td>1233.85</td>\n",
              "      <td>PURCHASE</td>\n",
              "    </tr>\n",
              "    <tr>\n",
              "      <th>764136</th>\n",
              "      <td>50000</td>\n",
              "      <td>48716.72</td>\n",
              "      <td>49.89</td>\n",
              "      <td>09</td>\n",
              "      <td>99</td>\n",
              "      <td>online_retail</td>\n",
              "      <td>1283.28</td>\n",
              "      <td>PURCHASE</td>\n",
              "    </tr>\n",
              "    <tr>\n",
              "      <th>764137</th>\n",
              "      <td>50000</td>\n",
              "      <td>48666.83</td>\n",
              "      <td>72.18</td>\n",
              "      <td>05</td>\n",
              "      <td>01</td>\n",
              "      <td>rideshare</td>\n",
              "      <td>1333.17</td>\n",
              "      <td>PURCHASE</td>\n",
              "    </tr>\n",
              "  </tbody>\n",
              "</table>\n",
              "<p>764138 rows × 8 columns</p>\n",
              "</div>"
            ],
            "text/plain": [
              "        creditLimit  availableMoney  ...  currentBalance transactionType\n",
              "0              5000         5000.00  ...            0.00        PURCHASE\n",
              "1              5000         5000.00  ...            0.00        PURCHASE\n",
              "2              5000         5000.00  ...            0.00        PURCHASE\n",
              "3              5000         5000.00  ...            0.00        PURCHASE\n",
              "4              5000         5000.00  ...            0.00        PURCHASE\n",
              "...             ...             ...  ...             ...             ...\n",
              "764133        50000        48904.96  ...         1095.04        PURCHASE\n",
              "764134        50000        48785.04  ...         1214.96        PURCHASE\n",
              "764135        50000        48766.15  ...         1233.85        PURCHASE\n",
              "764136        50000        48716.72  ...         1283.28        PURCHASE\n",
              "764137        50000        48666.83  ...         1333.17        PURCHASE\n",
              "\n",
              "[764138 rows x 8 columns]"
            ]
          },
          "metadata": {
            "tags": []
          },
          "execution_count": 43
        }
      ]
    },
    {
      "cell_type": "code",
      "metadata": {
        "colab": {
          "base_uri": "https://localhost:8080/"
        },
        "id": "yagSkNhQ-oe4",
        "outputId": "3a1bd016-dbc3-49e1-f5c6-ed7b2bb46dcb"
      },
      "source": [
        "data.posEntryMode.value_counts()"
      ],
      "execution_count": null,
      "outputs": [
        {
          "output_type": "execute_result",
          "data": {
            "text/plain": [
              "05    306224\n",
              "09    229911\n",
              "02    190266\n",
              "90     18926\n",
              "80     14852\n",
              "        3959\n",
              "Name: posEntryMode, dtype: int64"
            ]
          },
          "metadata": {
            "tags": []
          },
          "execution_count": 44
        }
      ]
    },
    {
      "cell_type": "code",
      "metadata": {
        "colab": {
          "base_uri": "https://localhost:8080/"
        },
        "id": "EDeh9Yx_P9mQ",
        "outputId": "1cc08897-902e-43b8-e3d2-ab96c71e60d1"
      },
      "source": [
        "data.merchantCategoryCode.value_counts()"
      ],
      "execution_count": null,
      "outputs": [
        {
          "output_type": "execute_result",
          "data": {
            "text/plain": [
              "online_retail           196368\n",
              "fastfood                108995\n",
              "entertainment            77845\n",
              "food                     73313\n",
              "online_gifts             64332\n",
              "rideshare                49670\n",
              "hotels                   33159\n",
              "fuel                     23240\n",
              "subscriptions            22224\n",
              "auto                     21020\n",
              "health                   18527\n",
              "personal care            18408\n",
              "airline                  14962\n",
              "mobileapps               14592\n",
              "online_subscriptions     10839\n",
              "furniture                 7220\n",
              "food_delivery             5984\n",
              "gym                       2096\n",
              "cable/phone               1344\n",
              "Name: merchantCategoryCode, dtype: int64"
            ]
          },
          "metadata": {
            "tags": []
          },
          "execution_count": 45
        }
      ]
    },
    {
      "cell_type": "code",
      "metadata": {
        "id": "u4r3uhFRW49K"
      },
      "source": [
        "from sklearn.preprocessing import OneHotEncoder"
      ],
      "execution_count": null,
      "outputs": []
    },
    {
      "cell_type": "code",
      "metadata": {
        "id": "QDSu-ML4bseq"
      },
      "source": [
        "# # creating instance of one-hot-encoder\r\n",
        "# enc = OneHotEncoder(handle_unknown='ignore')\r\n",
        "# # passing bridge-types-cat column (label encoded values of bridge_types)\r\n",
        "# enc_df = pd.DataFrame(enc.fit_transform(bridge_df[['Cat']]).toarray())\r\n",
        "# # merge with main df bridge_df on key values\r\n",
        "# X = X+enc_df"
      ],
      "execution_count": null,
      "outputs": []
    },
    {
      "cell_type": "code",
      "metadata": {
        "id": "gIEIuD9QWhwy"
      },
      "source": [
        "# mcc=data['merchantCategoryCode']\r\n",
        "\r\n",
        "# total_set = X\r\n",
        "# #total_set = total_set.append(yp, ignore_index=True)\r\n",
        "\r\n",
        "# le1=LabelEncoder()\r\n",
        "# X['merchantCategoryCode'] = le1.fit(X['merchantCategoryCode'])\r\n",
        "# Xn = le1.transform(X['merchantCategoryCode'])"
      ],
      "execution_count": null,
      "outputs": []
    },
    {
      "cell_type": "markdown",
      "metadata": {
        "id": "949Q8Vfbqd1R"
      },
      "source": [
        "### One-Hot encoding for the multi categorical variables"
      ]
    },
    {
      "cell_type": "code",
      "metadata": {
        "id": "UTk6eXFRNUhS"
      },
      "source": [
        "def preprocessing_step(X):\r\n",
        "\r\n",
        "    X = X.drop(columns = ['merchantCategoryCode'])\r\n",
        "\r\n",
        "    T=np.zeros(len(X))\r\n",
        "\r\n",
        "    # Tz = np.zeros(len(X))\r\n",
        "    # T = pd.DataFrame({'Column1': Tz})\r\n",
        "    \r\n",
        "    X['PEM0']= X['PEM1'] = X['PEM2'] = X['PEM3'] = X['PEM4'] = T\r\n",
        "    X['PCC0']= X['PCC1'] = X['PCC2'] = T\r\n",
        "    X['TT0'] = X['TT1'] = T\r\n",
        "\r\n",
        "\r\n",
        "\r\n",
        "    # Manually one-hot encode PosEntryMode\r\n",
        "    # posEntryMode = 9  : PEM0\r\n",
        "    # posEntryMode = 5  : PEM1\r\n",
        "    # posEntryMode = 5  : PEM2\r\n",
        "    # posEntryMode = 90 : PEM3\r\n",
        "    # posEntryMode = 80 : PEM4\r\n",
        "\r\n",
        "    for i in range(len(X)):\r\n",
        "        if X['posEntryMode'][i] == '09':\r\n",
        "            X['PEM0'][i] = 1\r\n",
        "        if X['posEntryMode'][i] == '05':\r\n",
        "            X['PEM1'][i] = 1\r\n",
        "        if X['posEntryMode'][i] == '02':\r\n",
        "            X['PEM2'][i] = 1\r\n",
        "        if X['posEntryMode'][i] == '90':\r\n",
        "            X['PEM3'][i] = 1\r\n",
        "        if X['posEntryMode'][i] == '80':\r\n",
        "            X['PEM4'][i] = 1\r\n",
        "    \r\n",
        "\r\n",
        "\r\n",
        "    # Manually one-hot encode PosConditionCode as following:\r\n",
        "    # posConditionCode = 1  : PCC0\r\n",
        "    # posConditionCode = 8  : PCC1\r\n",
        "    # posConditionCode = 99 : PCC2\r\n",
        "\r\n",
        "    for i in range(len(X)):\r\n",
        "        if X['posConditionCode'][i] == '01':\r\n",
        "            X['PCC0'][i] == 1\r\n",
        "        if X['posConditionCode'][i] == '08':\r\n",
        "            X['PCC1'][i] == 1\r\n",
        "        if X['posConditionCode'][i] == '99':\r\n",
        "            X['PCC2'][i] == 1\r\n",
        "    \r\n",
        "\r\n",
        "\r\n",
        "    # One-hot encode transactionType\r\n",
        "    # transactionType = Purchase  : TT0\r\n",
        "    # transactionType = Revarsal  : TT1\r\n",
        "\r\n",
        "    for i in range(len(X)):\r\n",
        "        if X['transactionType'][i] == 'PURCHASE':\r\n",
        "            X['TT0'][i] = 1\r\n",
        "    for i in range(len(X)):\r\n",
        "        if X['transactionType'][i] == 'REVERSAL':\r\n",
        "            X['TT1'][i] = 1\r\n",
        "\r\n",
        "      \r\n",
        "    # Remove the One-Hot encoded columns   \r\n",
        "    X = X.drop(columns = ['posEntryMode','posConditionCode','transactionType']) \r\n",
        "\r\n",
        "    return X"
      ],
      "execution_count": null,
      "outputs": []
    },
    {
      "cell_type": "code",
      "metadata": {
        "colab": {
          "base_uri": "https://localhost:8080/"
        },
        "id": "xEF5zzBrntJp",
        "outputId": "cfcf5171-42fe-4855-dff3-102dc79ff00e"
      },
      "source": [
        "X=preprocessing_step(X)"
      ],
      "execution_count": null,
      "outputs": [
        {
          "output_type": "stream",
          "text": [
            "/usr/local/lib/python3.6/dist-packages/ipykernel_launcher.py:29: SettingWithCopyWarning: \n",
            "A value is trying to be set on a copy of a slice from a DataFrame\n",
            "\n",
            "See the caveats in the documentation: https://pandas.pydata.org/pandas-docs/stable/user_guide/indexing.html#returning-a-view-versus-a-copy\n",
            "/usr/local/lib/python3.6/dist-packages/ipykernel_launcher.py:25: SettingWithCopyWarning: \n",
            "A value is trying to be set on a copy of a slice from a DataFrame\n",
            "\n",
            "See the caveats in the documentation: https://pandas.pydata.org/pandas-docs/stable/user_guide/indexing.html#returning-a-view-versus-a-copy\n",
            "/usr/local/lib/python3.6/dist-packages/ipykernel_launcher.py:27: SettingWithCopyWarning: \n",
            "A value is trying to be set on a copy of a slice from a DataFrame\n",
            "\n",
            "See the caveats in the documentation: https://pandas.pydata.org/pandas-docs/stable/user_guide/indexing.html#returning-a-view-versus-a-copy\n",
            "/usr/local/lib/python3.6/dist-packages/ipykernel_launcher.py:33: SettingWithCopyWarning: \n",
            "A value is trying to be set on a copy of a slice from a DataFrame\n",
            "\n",
            "See the caveats in the documentation: https://pandas.pydata.org/pandas-docs/stable/user_guide/indexing.html#returning-a-view-versus-a-copy\n",
            "/usr/local/lib/python3.6/dist-packages/ipykernel_launcher.py:31: SettingWithCopyWarning: \n",
            "A value is trying to be set on a copy of a slice from a DataFrame\n",
            "\n",
            "See the caveats in the documentation: https://pandas.pydata.org/pandas-docs/stable/user_guide/indexing.html#returning-a-view-versus-a-copy\n",
            "/usr/local/lib/python3.6/dist-packages/ipykernel_launcher.py:58: SettingWithCopyWarning: \n",
            "A value is trying to be set on a copy of a slice from a DataFrame\n",
            "\n",
            "See the caveats in the documentation: https://pandas.pydata.org/pandas-docs/stable/user_guide/indexing.html#returning-a-view-versus-a-copy\n",
            "/usr/local/lib/python3.6/dist-packages/ipykernel_launcher.py:61: SettingWithCopyWarning: \n",
            "A value is trying to be set on a copy of a slice from a DataFrame\n",
            "\n",
            "See the caveats in the documentation: https://pandas.pydata.org/pandas-docs/stable/user_guide/indexing.html#returning-a-view-versus-a-copy\n"
          ],
          "name": "stderr"
        }
      ]
    },
    {
      "cell_type": "code",
      "metadata": {
        "colab": {
          "base_uri": "https://localhost:8080/",
          "height": 406
        },
        "id": "sF_5gyFkoF7n",
        "outputId": "ef9f74ef-bc0d-4a42-9cdf-3fdafd00836e"
      },
      "source": [
        "X"
      ],
      "execution_count": null,
      "outputs": [
        {
          "output_type": "execute_result",
          "data": {
            "text/html": [
              "<div>\n",
              "<style scoped>\n",
              "    .dataframe tbody tr th:only-of-type {\n",
              "        vertical-align: middle;\n",
              "    }\n",
              "\n",
              "    .dataframe tbody tr th {\n",
              "        vertical-align: top;\n",
              "    }\n",
              "\n",
              "    .dataframe thead th {\n",
              "        text-align: right;\n",
              "    }\n",
              "</style>\n",
              "<table border=\"1\" class=\"dataframe\">\n",
              "  <thead>\n",
              "    <tr style=\"text-align: right;\">\n",
              "      <th></th>\n",
              "      <th>creditLimit</th>\n",
              "      <th>availableMoney</th>\n",
              "      <th>transactionAmount</th>\n",
              "      <th>currentBalance</th>\n",
              "      <th>PEM0</th>\n",
              "      <th>PEM1</th>\n",
              "      <th>PEM2</th>\n",
              "      <th>PEM3</th>\n",
              "      <th>PEM4</th>\n",
              "      <th>PCC0</th>\n",
              "      <th>PCC1</th>\n",
              "      <th>PCC2</th>\n",
              "      <th>TT0</th>\n",
              "      <th>TT1</th>\n",
              "    </tr>\n",
              "  </thead>\n",
              "  <tbody>\n",
              "    <tr>\n",
              "      <th>0</th>\n",
              "      <td>5000</td>\n",
              "      <td>5000.00</td>\n",
              "      <td>98.55</td>\n",
              "      <td>0.00</td>\n",
              "      <td>0.0</td>\n",
              "      <td>0.0</td>\n",
              "      <td>1.0</td>\n",
              "      <td>0.0</td>\n",
              "      <td>0.0</td>\n",
              "      <td>0.0</td>\n",
              "      <td>0.0</td>\n",
              "      <td>0.0</td>\n",
              "      <td>1.0</td>\n",
              "      <td>0.0</td>\n",
              "    </tr>\n",
              "    <tr>\n",
              "      <th>1</th>\n",
              "      <td>5000</td>\n",
              "      <td>5000.00</td>\n",
              "      <td>74.51</td>\n",
              "      <td>0.00</td>\n",
              "      <td>1.0</td>\n",
              "      <td>0.0</td>\n",
              "      <td>0.0</td>\n",
              "      <td>0.0</td>\n",
              "      <td>0.0</td>\n",
              "      <td>0.0</td>\n",
              "      <td>0.0</td>\n",
              "      <td>0.0</td>\n",
              "      <td>1.0</td>\n",
              "      <td>0.0</td>\n",
              "    </tr>\n",
              "    <tr>\n",
              "      <th>2</th>\n",
              "      <td>5000</td>\n",
              "      <td>5000.00</td>\n",
              "      <td>7.47</td>\n",
              "      <td>0.00</td>\n",
              "      <td>1.0</td>\n",
              "      <td>0.0</td>\n",
              "      <td>0.0</td>\n",
              "      <td>0.0</td>\n",
              "      <td>0.0</td>\n",
              "      <td>0.0</td>\n",
              "      <td>0.0</td>\n",
              "      <td>0.0</td>\n",
              "      <td>1.0</td>\n",
              "      <td>0.0</td>\n",
              "    </tr>\n",
              "    <tr>\n",
              "      <th>3</th>\n",
              "      <td>5000</td>\n",
              "      <td>5000.00</td>\n",
              "      <td>7.47</td>\n",
              "      <td>0.00</td>\n",
              "      <td>1.0</td>\n",
              "      <td>0.0</td>\n",
              "      <td>0.0</td>\n",
              "      <td>0.0</td>\n",
              "      <td>0.0</td>\n",
              "      <td>0.0</td>\n",
              "      <td>0.0</td>\n",
              "      <td>0.0</td>\n",
              "      <td>1.0</td>\n",
              "      <td>0.0</td>\n",
              "    </tr>\n",
              "    <tr>\n",
              "      <th>4</th>\n",
              "      <td>5000</td>\n",
              "      <td>5000.00</td>\n",
              "      <td>71.18</td>\n",
              "      <td>0.00</td>\n",
              "      <td>0.0</td>\n",
              "      <td>0.0</td>\n",
              "      <td>1.0</td>\n",
              "      <td>0.0</td>\n",
              "      <td>0.0</td>\n",
              "      <td>0.0</td>\n",
              "      <td>0.0</td>\n",
              "      <td>0.0</td>\n",
              "      <td>1.0</td>\n",
              "      <td>0.0</td>\n",
              "    </tr>\n",
              "    <tr>\n",
              "      <th>...</th>\n",
              "      <td>...</td>\n",
              "      <td>...</td>\n",
              "      <td>...</td>\n",
              "      <td>...</td>\n",
              "      <td>...</td>\n",
              "      <td>...</td>\n",
              "      <td>...</td>\n",
              "      <td>...</td>\n",
              "      <td>...</td>\n",
              "      <td>...</td>\n",
              "      <td>...</td>\n",
              "      <td>...</td>\n",
              "      <td>...</td>\n",
              "      <td>...</td>\n",
              "    </tr>\n",
              "    <tr>\n",
              "      <th>764133</th>\n",
              "      <td>50000</td>\n",
              "      <td>48904.96</td>\n",
              "      <td>119.92</td>\n",
              "      <td>1095.04</td>\n",
              "      <td>0.0</td>\n",
              "      <td>0.0</td>\n",
              "      <td>0.0</td>\n",
              "      <td>1.0</td>\n",
              "      <td>0.0</td>\n",
              "      <td>0.0</td>\n",
              "      <td>0.0</td>\n",
              "      <td>0.0</td>\n",
              "      <td>1.0</td>\n",
              "      <td>0.0</td>\n",
              "    </tr>\n",
              "    <tr>\n",
              "      <th>764134</th>\n",
              "      <td>50000</td>\n",
              "      <td>48785.04</td>\n",
              "      <td>18.89</td>\n",
              "      <td>1214.96</td>\n",
              "      <td>1.0</td>\n",
              "      <td>0.0</td>\n",
              "      <td>0.0</td>\n",
              "      <td>0.0</td>\n",
              "      <td>0.0</td>\n",
              "      <td>0.0</td>\n",
              "      <td>0.0</td>\n",
              "      <td>0.0</td>\n",
              "      <td>1.0</td>\n",
              "      <td>0.0</td>\n",
              "    </tr>\n",
              "    <tr>\n",
              "      <th>764135</th>\n",
              "      <td>50000</td>\n",
              "      <td>48766.15</td>\n",
              "      <td>49.43</td>\n",
              "      <td>1233.85</td>\n",
              "      <td>0.0</td>\n",
              "      <td>0.0</td>\n",
              "      <td>1.0</td>\n",
              "      <td>0.0</td>\n",
              "      <td>0.0</td>\n",
              "      <td>0.0</td>\n",
              "      <td>0.0</td>\n",
              "      <td>0.0</td>\n",
              "      <td>1.0</td>\n",
              "      <td>0.0</td>\n",
              "    </tr>\n",
              "    <tr>\n",
              "      <th>764136</th>\n",
              "      <td>50000</td>\n",
              "      <td>48716.72</td>\n",
              "      <td>49.89</td>\n",
              "      <td>1283.28</td>\n",
              "      <td>1.0</td>\n",
              "      <td>0.0</td>\n",
              "      <td>0.0</td>\n",
              "      <td>0.0</td>\n",
              "      <td>0.0</td>\n",
              "      <td>0.0</td>\n",
              "      <td>0.0</td>\n",
              "      <td>0.0</td>\n",
              "      <td>1.0</td>\n",
              "      <td>0.0</td>\n",
              "    </tr>\n",
              "    <tr>\n",
              "      <th>764137</th>\n",
              "      <td>50000</td>\n",
              "      <td>48666.83</td>\n",
              "      <td>72.18</td>\n",
              "      <td>1333.17</td>\n",
              "      <td>0.0</td>\n",
              "      <td>1.0</td>\n",
              "      <td>0.0</td>\n",
              "      <td>0.0</td>\n",
              "      <td>0.0</td>\n",
              "      <td>0.0</td>\n",
              "      <td>0.0</td>\n",
              "      <td>0.0</td>\n",
              "      <td>1.0</td>\n",
              "      <td>0.0</td>\n",
              "    </tr>\n",
              "  </tbody>\n",
              "</table>\n",
              "<p>764138 rows × 14 columns</p>\n",
              "</div>"
            ],
            "text/plain": [
              "        creditLimit  availableMoney  transactionAmount  ...  PCC2  TT0  TT1\n",
              "0              5000         5000.00              98.55  ...   0.0  1.0  0.0\n",
              "1              5000         5000.00              74.51  ...   0.0  1.0  0.0\n",
              "2              5000         5000.00               7.47  ...   0.0  1.0  0.0\n",
              "3              5000         5000.00               7.47  ...   0.0  1.0  0.0\n",
              "4              5000         5000.00              71.18  ...   0.0  1.0  0.0\n",
              "...             ...             ...                ...  ...   ...  ...  ...\n",
              "764133        50000        48904.96             119.92  ...   0.0  1.0  0.0\n",
              "764134        50000        48785.04              18.89  ...   0.0  1.0  0.0\n",
              "764135        50000        48766.15              49.43  ...   0.0  1.0  0.0\n",
              "764136        50000        48716.72              49.89  ...   0.0  1.0  0.0\n",
              "764137        50000        48666.83              72.18  ...   0.0  1.0  0.0\n",
              "\n",
              "[764138 rows x 14 columns]"
            ]
          },
          "metadata": {
            "tags": []
          },
          "execution_count": 51
        }
      ]
    },
    {
      "cell_type": "markdown",
      "metadata": {
        "id": "4X22vqVMhZyF"
      },
      "source": [
        "### Sampling the data"
      ]
    },
    {
      "cell_type": "code",
      "metadata": {
        "id": "Q0rVuksChOs8",
        "colab": {
          "base_uri": "https://localhost:8080/"
        },
        "outputId": "b9142a52-43d0-4c3b-9d59-754dc3aa973d"
      },
      "source": [
        "from imblearn.under_sampling import RandomUnderSampler\r\n",
        "X2, Y2 = RandomUnderSampler().fit_resample(X,Y)"
      ],
      "execution_count": null,
      "outputs": [
        {
          "output_type": "stream",
          "text": [
            "/usr/local/lib/python3.6/dist-packages/sklearn/externals/six.py:31: FutureWarning: The module is deprecated in version 0.21 and will be removed in version 0.23 since we've dropped support for Python 2.7. Please rely on the official version of six (https://pypi.org/project/six/).\n",
            "  \"(https://pypi.org/project/six/).\", FutureWarning)\n",
            "/usr/local/lib/python3.6/dist-packages/sklearn/utils/deprecation.py:144: FutureWarning: The sklearn.neighbors.base module is  deprecated in version 0.22 and will be removed in version 0.24. The corresponding classes / functions should instead be imported from sklearn.neighbors. Anything that cannot be imported from sklearn.neighbors is now part of the private API.\n",
            "  warnings.warn(message, FutureWarning)\n",
            "/usr/local/lib/python3.6/dist-packages/sklearn/utils/deprecation.py:87: FutureWarning: Function safe_indexing is deprecated; safe_indexing is deprecated in version 0.22 and will be removed in version 0.24.\n",
            "  warnings.warn(msg, category=FutureWarning)\n"
          ],
          "name": "stderr"
        }
      ]
    },
    {
      "cell_type": "markdown",
      "metadata": {
        "id": "oZYDVYPrhhOx"
      },
      "source": [
        "### Training Data and Test Data splitting"
      ]
    },
    {
      "cell_type": "code",
      "metadata": {
        "id": "_mmXXWfnKM6H"
      },
      "source": [
        "from sklearn.model_selection import train_test_split\r\n",
        "x_train, x_test, y_train, y_test = train_test_split(X2, Y2)"
      ],
      "execution_count": null,
      "outputs": []
    },
    {
      "cell_type": "code",
      "metadata": {
        "colab": {
          "base_uri": "https://localhost:8080/",
          "height": 406
        },
        "id": "VA-5DDqXpfpI",
        "outputId": "d079e6a3-4c02-4f39-a0c9-757936977af6"
      },
      "source": [
        "xt = pd.DataFrame(x_train, columns = ['creditLimit','availableMoney','transactionAmount','currentBalance','PEM0','PEM1','PEM2','PEM3','PEM4','PCC0','PCC1','PCC2','TT0','TT1'])\r\n",
        "xt"
      ],
      "execution_count": null,
      "outputs": [
        {
          "output_type": "execute_result",
          "data": {
            "text/html": [
              "<div>\n",
              "<style scoped>\n",
              "    .dataframe tbody tr th:only-of-type {\n",
              "        vertical-align: middle;\n",
              "    }\n",
              "\n",
              "    .dataframe tbody tr th {\n",
              "        vertical-align: top;\n",
              "    }\n",
              "\n",
              "    .dataframe thead th {\n",
              "        text-align: right;\n",
              "    }\n",
              "</style>\n",
              "<table border=\"1\" class=\"dataframe\">\n",
              "  <thead>\n",
              "    <tr style=\"text-align: right;\">\n",
              "      <th></th>\n",
              "      <th>creditLimit</th>\n",
              "      <th>availableMoney</th>\n",
              "      <th>transactionAmount</th>\n",
              "      <th>currentBalance</th>\n",
              "      <th>PEM0</th>\n",
              "      <th>PEM1</th>\n",
              "      <th>PEM2</th>\n",
              "      <th>PEM3</th>\n",
              "      <th>PEM4</th>\n",
              "      <th>PCC0</th>\n",
              "      <th>PCC1</th>\n",
              "      <th>PCC2</th>\n",
              "      <th>TT0</th>\n",
              "      <th>TT1</th>\n",
              "    </tr>\n",
              "  </thead>\n",
              "  <tbody>\n",
              "    <tr>\n",
              "      <th>0</th>\n",
              "      <td>250.0</td>\n",
              "      <td>245.84</td>\n",
              "      <td>188.30</td>\n",
              "      <td>4.16</td>\n",
              "      <td>1.0</td>\n",
              "      <td>0.0</td>\n",
              "      <td>0.0</td>\n",
              "      <td>0.0</td>\n",
              "      <td>0.0</td>\n",
              "      <td>0.0</td>\n",
              "      <td>0.0</td>\n",
              "      <td>0.0</td>\n",
              "      <td>1.0</td>\n",
              "      <td>0.0</td>\n",
              "    </tr>\n",
              "    <tr>\n",
              "      <th>1</th>\n",
              "      <td>50000.0</td>\n",
              "      <td>49852.76</td>\n",
              "      <td>273.18</td>\n",
              "      <td>147.24</td>\n",
              "      <td>0.0</td>\n",
              "      <td>0.0</td>\n",
              "      <td>0.0</td>\n",
              "      <td>0.0</td>\n",
              "      <td>1.0</td>\n",
              "      <td>0.0</td>\n",
              "      <td>0.0</td>\n",
              "      <td>0.0</td>\n",
              "      <td>1.0</td>\n",
              "      <td>0.0</td>\n",
              "    </tr>\n",
              "    <tr>\n",
              "      <th>2</th>\n",
              "      <td>250.0</td>\n",
              "      <td>130.64</td>\n",
              "      <td>136.30</td>\n",
              "      <td>119.36</td>\n",
              "      <td>0.0</td>\n",
              "      <td>1.0</td>\n",
              "      <td>0.0</td>\n",
              "      <td>0.0</td>\n",
              "      <td>0.0</td>\n",
              "      <td>0.0</td>\n",
              "      <td>0.0</td>\n",
              "      <td>0.0</td>\n",
              "      <td>1.0</td>\n",
              "      <td>0.0</td>\n",
              "    </tr>\n",
              "    <tr>\n",
              "      <th>3</th>\n",
              "      <td>7500.0</td>\n",
              "      <td>2856.07</td>\n",
              "      <td>153.23</td>\n",
              "      <td>4643.93</td>\n",
              "      <td>0.0</td>\n",
              "      <td>0.0</td>\n",
              "      <td>1.0</td>\n",
              "      <td>0.0</td>\n",
              "      <td>0.0</td>\n",
              "      <td>0.0</td>\n",
              "      <td>0.0</td>\n",
              "      <td>0.0</td>\n",
              "      <td>1.0</td>\n",
              "      <td>0.0</td>\n",
              "    </tr>\n",
              "    <tr>\n",
              "      <th>4</th>\n",
              "      <td>20000.0</td>\n",
              "      <td>6213.70</td>\n",
              "      <td>11.94</td>\n",
              "      <td>13786.30</td>\n",
              "      <td>0.0</td>\n",
              "      <td>0.0</td>\n",
              "      <td>1.0</td>\n",
              "      <td>0.0</td>\n",
              "      <td>0.0</td>\n",
              "      <td>0.0</td>\n",
              "      <td>0.0</td>\n",
              "      <td>0.0</td>\n",
              "      <td>1.0</td>\n",
              "      <td>0.0</td>\n",
              "    </tr>\n",
              "    <tr>\n",
              "      <th>...</th>\n",
              "      <td>...</td>\n",
              "      <td>...</td>\n",
              "      <td>...</td>\n",
              "      <td>...</td>\n",
              "      <td>...</td>\n",
              "      <td>...</td>\n",
              "      <td>...</td>\n",
              "      <td>...</td>\n",
              "      <td>...</td>\n",
              "      <td>...</td>\n",
              "      <td>...</td>\n",
              "      <td>...</td>\n",
              "      <td>...</td>\n",
              "      <td>...</td>\n",
              "    </tr>\n",
              "    <tr>\n",
              "      <th>18437</th>\n",
              "      <td>1000.0</td>\n",
              "      <td>572.53</td>\n",
              "      <td>526.71</td>\n",
              "      <td>427.47</td>\n",
              "      <td>0.0</td>\n",
              "      <td>0.0</td>\n",
              "      <td>0.0</td>\n",
              "      <td>0.0</td>\n",
              "      <td>1.0</td>\n",
              "      <td>0.0</td>\n",
              "      <td>0.0</td>\n",
              "      <td>0.0</td>\n",
              "      <td>1.0</td>\n",
              "      <td>0.0</td>\n",
              "    </tr>\n",
              "    <tr>\n",
              "      <th>18438</th>\n",
              "      <td>10000.0</td>\n",
              "      <td>9755.18</td>\n",
              "      <td>143.83</td>\n",
              "      <td>244.82</td>\n",
              "      <td>0.0</td>\n",
              "      <td>1.0</td>\n",
              "      <td>0.0</td>\n",
              "      <td>0.0</td>\n",
              "      <td>0.0</td>\n",
              "      <td>0.0</td>\n",
              "      <td>0.0</td>\n",
              "      <td>0.0</td>\n",
              "      <td>1.0</td>\n",
              "      <td>0.0</td>\n",
              "    </tr>\n",
              "    <tr>\n",
              "      <th>18439</th>\n",
              "      <td>15000.0</td>\n",
              "      <td>7475.22</td>\n",
              "      <td>106.19</td>\n",
              "      <td>7524.78</td>\n",
              "      <td>1.0</td>\n",
              "      <td>0.0</td>\n",
              "      <td>0.0</td>\n",
              "      <td>0.0</td>\n",
              "      <td>0.0</td>\n",
              "      <td>0.0</td>\n",
              "      <td>0.0</td>\n",
              "      <td>0.0</td>\n",
              "      <td>1.0</td>\n",
              "      <td>0.0</td>\n",
              "    </tr>\n",
              "    <tr>\n",
              "      <th>18440</th>\n",
              "      <td>15000.0</td>\n",
              "      <td>3632.20</td>\n",
              "      <td>26.85</td>\n",
              "      <td>11367.80</td>\n",
              "      <td>0.0</td>\n",
              "      <td>0.0</td>\n",
              "      <td>1.0</td>\n",
              "      <td>0.0</td>\n",
              "      <td>0.0</td>\n",
              "      <td>0.0</td>\n",
              "      <td>0.0</td>\n",
              "      <td>0.0</td>\n",
              "      <td>1.0</td>\n",
              "      <td>0.0</td>\n",
              "    </tr>\n",
              "    <tr>\n",
              "      <th>18441</th>\n",
              "      <td>1000.0</td>\n",
              "      <td>531.81</td>\n",
              "      <td>30.36</td>\n",
              "      <td>468.19</td>\n",
              "      <td>1.0</td>\n",
              "      <td>0.0</td>\n",
              "      <td>0.0</td>\n",
              "      <td>0.0</td>\n",
              "      <td>0.0</td>\n",
              "      <td>0.0</td>\n",
              "      <td>0.0</td>\n",
              "      <td>0.0</td>\n",
              "      <td>1.0</td>\n",
              "      <td>0.0</td>\n",
              "    </tr>\n",
              "  </tbody>\n",
              "</table>\n",
              "<p>18442 rows × 14 columns</p>\n",
              "</div>"
            ],
            "text/plain": [
              "       creditLimit  availableMoney  transactionAmount  ...  PCC2  TT0  TT1\n",
              "0            250.0          245.84             188.30  ...   0.0  1.0  0.0\n",
              "1          50000.0        49852.76             273.18  ...   0.0  1.0  0.0\n",
              "2            250.0          130.64             136.30  ...   0.0  1.0  0.0\n",
              "3           7500.0         2856.07             153.23  ...   0.0  1.0  0.0\n",
              "4          20000.0         6213.70              11.94  ...   0.0  1.0  0.0\n",
              "...            ...             ...                ...  ...   ...  ...  ...\n",
              "18437       1000.0          572.53             526.71  ...   0.0  1.0  0.0\n",
              "18438      10000.0         9755.18             143.83  ...   0.0  1.0  0.0\n",
              "18439      15000.0         7475.22             106.19  ...   0.0  1.0  0.0\n",
              "18440      15000.0         3632.20              26.85  ...   0.0  1.0  0.0\n",
              "18441       1000.0          531.81              30.36  ...   0.0  1.0  0.0\n",
              "\n",
              "[18442 rows x 14 columns]"
            ]
          },
          "metadata": {
            "tags": []
          },
          "execution_count": 54
        }
      ]
    },
    {
      "cell_type": "markdown",
      "metadata": {
        "id": "ru3J--urqIi6"
      },
      "source": [
        "###4.0. Model Analysis Metrics and Estimations"
      ]
    },
    {
      "cell_type": "code",
      "metadata": {
        "id": "ou9eJzflv0tc"
      },
      "source": [
        "from sklearn.metrics import accuracy_score,confusion_matrix,roc_curve "
      ],
      "execution_count": null,
      "outputs": []
    },
    {
      "cell_type": "code",
      "metadata": {
        "id": "AvmfltkguC1z"
      },
      "source": [
        "def confusion_mat(y_pred, y_true):\r\n",
        "    plt.subplots(figsize=(4,4))\r\n",
        "    conf = confusion_matrix(y_true, y_pred)\r\n",
        "    acc = accuracy_score(y_true, y_pred)\r\n",
        "    print(f'Accuracy: {acc}')\r\n",
        "    sns.heatmap(conf,cmap='Blues',cbar=False,annot=True,fmt='g',xticklabels=['False', 'True'],yticklabels=['False','True'],annot_kws={\"size\": 20})\r\n",
        "    plt.show()\r\n"
      ],
      "execution_count": null,
      "outputs": []
    },
    {
      "cell_type": "code",
      "metadata": {
        "id": "RgwmfsCSw1xM"
      },
      "source": [
        "def plot_roc(models):\r\n",
        "    for key, value in models.items():\r\n",
        "        fpr, tpr, _ = roc_curve(value[0], value[1])\r\n",
        "        sns.lineplot(x=fpr, y=tpr, label=key)\r\n",
        "\r\n",
        "    ax = sns.lineplot(x=[0, 0.5, 1], y=[0, 0.5, 1])\r\n",
        "    ax.lines[len(models)].set_linestyle(\"--\")\r\n",
        "    plt.xlabel('False Positive Rate')\r\n",
        "    plt.ylabel('True Positive Rate')\r\n",
        "    plt.title(f'ROC Curve')"
      ],
      "execution_count": null,
      "outputs": []
    },
    {
      "cell_type": "markdown",
      "metadata": {
        "id": "PE0shDpSMe5p"
      },
      "source": [
        "### 4.1.  Model - Logistic Regression"
      ]
    },
    {
      "cell_type": "code",
      "metadata": {
        "id": "hmJcRT-fOGpW"
      },
      "source": [
        "from sklearn.linear_model import LogisticRegression"
      ],
      "execution_count": null,
      "outputs": []
    },
    {
      "cell_type": "code",
      "metadata": {
        "colab": {
          "base_uri": "https://localhost:8080/"
        },
        "id": "WrQhOCPLKEa-",
        "outputId": "c8e1df36-ba6e-4b8e-ab2f-68effe7dc6bf"
      },
      "source": [
        "LR = LogisticRegression(random_state=0).fit(xt, y_train)\r\n",
        "print('Logistic Regression accuracy (train)=',LR.score(xt, y_train))\r\n",
        "print('Logistic Regression accuracy (test)=',LR.score(x_test, y_test))"
      ],
      "execution_count": null,
      "outputs": [
        {
          "output_type": "stream",
          "text": [
            "Logistic Regression accuracy (train)= 0.6362108231211365\n",
            "Logistic Regression accuracy (test)= 0.6434612882238127\n"
          ],
          "name": "stdout"
        }
      ]
    },
    {
      "cell_type": "code",
      "metadata": {
        "colab": {
          "base_uri": "https://localhost:8080/"
        },
        "id": "EItP8yI2pOUV",
        "outputId": "27af0d00-006d-4c61-b60b-cc2efa70a5d3"
      },
      "source": [
        "Xn = LR.predict(xt)\r\n",
        "Xn\r\n",
        "ytestpred=LR.predict(x_test)\r\n",
        "ytestpred"
      ],
      "execution_count": null,
      "outputs": [
        {
          "output_type": "execute_result",
          "data": {
            "text/plain": [
              "array([False,  True,  True, ...,  True,  True,  True])"
            ]
          },
          "metadata": {
            "tags": []
          },
          "execution_count": 60
        }
      ]
    },
    {
      "cell_type": "code",
      "metadata": {
        "colab": {
          "base_uri": "https://localhost:8080/",
          "height": 406
        },
        "id": "K-hY_3mmsufD",
        "outputId": "dc443e4b-2640-48b8-b2d7-ae0f9f35a713"
      },
      "source": [
        "yn=pd.DataFrame(y_train, columns = ['isFraud'])\r\n",
        "yn"
      ],
      "execution_count": null,
      "outputs": [
        {
          "output_type": "execute_result",
          "data": {
            "text/html": [
              "<div>\n",
              "<style scoped>\n",
              "    .dataframe tbody tr th:only-of-type {\n",
              "        vertical-align: middle;\n",
              "    }\n",
              "\n",
              "    .dataframe tbody tr th {\n",
              "        vertical-align: top;\n",
              "    }\n",
              "\n",
              "    .dataframe thead th {\n",
              "        text-align: right;\n",
              "    }\n",
              "</style>\n",
              "<table border=\"1\" class=\"dataframe\">\n",
              "  <thead>\n",
              "    <tr style=\"text-align: right;\">\n",
              "      <th></th>\n",
              "      <th>isFraud</th>\n",
              "    </tr>\n",
              "  </thead>\n",
              "  <tbody>\n",
              "    <tr>\n",
              "      <th>0</th>\n",
              "      <td>False</td>\n",
              "    </tr>\n",
              "    <tr>\n",
              "      <th>1</th>\n",
              "      <td>True</td>\n",
              "    </tr>\n",
              "    <tr>\n",
              "      <th>2</th>\n",
              "      <td>False</td>\n",
              "    </tr>\n",
              "    <tr>\n",
              "      <th>3</th>\n",
              "      <td>False</td>\n",
              "    </tr>\n",
              "    <tr>\n",
              "      <th>4</th>\n",
              "      <td>False</td>\n",
              "    </tr>\n",
              "    <tr>\n",
              "      <th>...</th>\n",
              "      <td>...</td>\n",
              "    </tr>\n",
              "    <tr>\n",
              "      <th>18437</th>\n",
              "      <td>True</td>\n",
              "    </tr>\n",
              "    <tr>\n",
              "      <th>18438</th>\n",
              "      <td>False</td>\n",
              "    </tr>\n",
              "    <tr>\n",
              "      <th>18439</th>\n",
              "      <td>True</td>\n",
              "    </tr>\n",
              "    <tr>\n",
              "      <th>18440</th>\n",
              "      <td>True</td>\n",
              "    </tr>\n",
              "    <tr>\n",
              "      <th>18441</th>\n",
              "      <td>False</td>\n",
              "    </tr>\n",
              "  </tbody>\n",
              "</table>\n",
              "<p>18442 rows × 1 columns</p>\n",
              "</div>"
            ],
            "text/plain": [
              "       isFraud\n",
              "0        False\n",
              "1         True\n",
              "2        False\n",
              "3        False\n",
              "4        False\n",
              "...        ...\n",
              "18437     True\n",
              "18438    False\n",
              "18439     True\n",
              "18440     True\n",
              "18441    False\n",
              "\n",
              "[18442 rows x 1 columns]"
            ]
          },
          "metadata": {
            "tags": []
          },
          "execution_count": 61
        }
      ]
    },
    {
      "cell_type": "code",
      "metadata": {
        "id": "yr-FAsKjve9N"
      },
      "source": [
        "# confusion_mat(y_train,Xn)\r\n",
        "# print(\"  Confusion Matrix of Logistic Regression (Train Set)\")"
      ],
      "execution_count": null,
      "outputs": []
    },
    {
      "cell_type": "code",
      "metadata": {
        "colab": {
          "base_uri": "https://localhost:8080/",
          "height": 303
        },
        "id": "1HPSJ7C-uvak",
        "outputId": "2ac2f6af-63d9-45bd-a26e-47b4a88fa86d"
      },
      "source": [
        "confusion_mat(ytestpred,y_test)\r\n",
        "print(\"  Confusion Matrix of Logistic Regression (Test Set)\")"
      ],
      "execution_count": null,
      "outputs": [
        {
          "output_type": "stream",
          "text": [
            "Accuracy: 0.6434612882238127\n"
          ],
          "name": "stdout"
        },
        {
          "output_type": "display_data",
          "data": {
            "image/png": "[encoded data removed]",
            "text/plain": [
              "<Figure size 288x288 with 1 Axes>"
            ]
          },
          "metadata": {
            "tags": []
          }
        },
        {
          "output_type": "stream",
          "text": [
            "  Confusion Matrix of Logistic Regression (Test Set)\n"
          ],
          "name": "stdout"
        }
      ]
    },
    {
      "cell_type": "markdown",
      "metadata": {
        "id": "FELNpQ_zXaFj"
      },
      "source": [
        "### 4.2.  Model- Decision Tree Classifier"
      ]
    },
    {
      "cell_type": "code",
      "metadata": {
        "colab": {
          "base_uri": "https://localhost:8080/"
        },
        "id": "M4ctbw6czSS9",
        "outputId": "8c0d4a5a-32ff-41c5-89bb-fddf27cf9dcb"
      },
      "source": [
        "# Decision Tree\r\n",
        "from sklearn.tree import DecisionTreeClassifier\r\n",
        "clf = DecisionTreeClassifier().fit(x_train, y_train)\r\n",
        "print('Accuracy of Decision Tree classifier-Train: {:.2f}'.format(clf.score(x_train, y_train)))\r\n",
        "print('Accuracy of Decision Tree classifier- Test: {:.2f}'.format(clf.score(x_test, y_test)))"
      ],
      "execution_count": null,
      "outputs": [
        {
          "output_type": "stream",
          "text": [
            "Accuracy of Decision Tree classifier-Train: 1.00\n",
            "Accuracy of Decision Tree classifier- Test: 0.57\n"
          ],
          "name": "stdout"
        }
      ]
    },
    {
      "cell_type": "code",
      "metadata": {
        "colab": {
          "base_uri": "https://localhost:8080/",
          "height": 303
        },
        "id": "MY72sZMYTO_Y",
        "outputId": "420dd7cf-4180-455b-890b-2761b197f844"
      },
      "source": [
        "ytc=clf.predict(x_test)\r\n",
        "confusion_mat(y_test,ytc)\r\n",
        "print(\"  Confusion Matrix of Decision Tree Classifier Test Set\")"
      ],
      "execution_count": null,
      "outputs": [
        {
          "output_type": "stream",
          "text": [
            "Accuracy: 0.5725439167208849\n"
          ],
          "name": "stdout"
        },
        {
          "output_type": "display_data",
          "data": {
            "image/png": "[encoded data removed]",
            "text/plain": [
              "<Figure size 288x288 with 1 Axes>"
            ]
          },
          "metadata": {
            "tags": []
          }
        },
        {
          "output_type": "stream",
          "text": [
            "  Confusion Matrix of Decision Tree Classifier Test Set\n"
          ],
          "name": "stdout"
        }
      ]
    },
    {
      "cell_type": "markdown",
      "metadata": {
        "id": "mj4ARVhUXj5r"
      },
      "source": [
        "### 4.3.  Model - Support Vector Classifier"
      ]
    },
    {
      "cell_type": "code",
      "metadata": {
        "colab": {
          "base_uri": "https://localhost:8080/"
        },
        "id": "JdvAsUjw9QbS",
        "outputId": "865e8690-258a-4aa1-f2e7-a680531e2afb"
      },
      "source": [
        "from sklearn.svm import SVC\r\n",
        "svm = SVC()\r\n",
        "svm.fit(x_train, y_train)\r\n",
        "print('Accuracy of SVM classifier on training set: {:}'.format(svm.score(x_train, y_train)))\r\n",
        "print('Accuracy of SVM classifier on test set: {:}'.format(svm.score(x_test, y_test)))"
      ],
      "execution_count": null,
      "outputs": [
        {
          "output_type": "stream",
          "text": [
            "Accuracy of SVM classifier on training set: 0.5598091313306582\n",
            "Accuracy of SVM classifier on test set: 0.5657124268054652\n"
          ],
          "name": "stdout"
        }
      ]
    },
    {
      "cell_type": "code",
      "metadata": {
        "colab": {
          "base_uri": "https://localhost:8080/",
          "height": 303
        },
        "id": "GMnV61bLVWZM",
        "outputId": "3dfa9a80-5dee-4cb8-bc21-d15ab72ae31b"
      },
      "source": [
        "yvc=svm.predict(x_test)\r\n",
        "confusion_mat(y_test,yvc)\r\n",
        "print(\"  Confusion Matrix of Support Vector Machine Test Set\")"
      ],
      "execution_count": null,
      "outputs": [
        {
          "output_type": "stream",
          "text": [
            "Accuracy: 0.5657124268054652\n"
          ],
          "name": "stdout"
        },
        {
          "output_type": "display_data",
          "data": {
            "image/png": "[encoded data removed]",
            "text/plain": [
              "<Figure size 288x288 with 1 Axes>"
            ]
          },
          "metadata": {
            "tags": []
          }
        },
        {
          "output_type": "stream",
          "text": [
            "  Confusion Matrix of Support Vector Machine Test Set\n"
          ],
          "name": "stdout"
        }
      ]
    },
    {
      "cell_type": "markdown",
      "metadata": {
        "id": "hidFiGKfRhU6"
      },
      "source": [
        "### 4.4. Model - Random Forest Classifier"
      ]
    },
    {
      "cell_type": "code",
      "metadata": {
        "id": "Y7cp9JcnyKdc"
      },
      "source": [
        "from sklearn.ensemble import RandomForestClassifier\r\n",
        "accuracy = np.zeros((10,10))\r\n",
        "for i in range(0,10):\r\n",
        "    for j in range(0,10):\r\n",
        "        RFC = RandomForestClassifier(max_depth=i+1, random_state=j)\r\n",
        "        RFC.fit(x_train, y_train)\r\n",
        "        accuracy[i,j] = RFC.score(x_train, y_train)+RFC.score(x_test, y_test)"
      ],
      "execution_count": null,
      "outputs": []
    },
    {
      "cell_type": "markdown",
      "metadata": {
        "id": "FGuwlOjaz-1H"
      },
      "source": [
        "The Random forest Classifier has an option to explicitly specify maxdepth and the random state.\r\n",
        "Here we iterate through all the possible values to obtain the best fit RFmodel "
      ]
    },
    {
      "cell_type": "code",
      "metadata": {
        "colab": {
          "base_uri": "https://localhost:8080/"
        },
        "id": "bnI0Bnyvz2ve",
        "outputId": "37663f5d-07e1-47c4-a891-d062f912a47b"
      },
      "source": [
        "np.argmax(accuracy)\r\n"
      ],
      "execution_count": null,
      "outputs": [
        {
          "output_type": "execute_result",
          "data": {
            "text/plain": [
              "90"
            ]
          },
          "metadata": {
            "tags": []
          },
          "execution_count": 69
        }
      ]
    },
    {
      "cell_type": "code",
      "metadata": {
        "colab": {
          "base_uri": "https://localhost:8080/"
        },
        "id": "oVt0bBWzUk3F",
        "outputId": "50228588-2dcb-4ee1-97ee-ab042be32240"
      },
      "source": [
        "yn=RFC.predict(x_train)\r\n",
        "yn "
      ],
      "execution_count": null,
      "outputs": [
        {
          "output_type": "execute_result",
          "data": {
            "text/plain": [
              "array([ True,  True, False, ...,  True, False, False])"
            ]
          },
          "metadata": {
            "tags": []
          },
          "execution_count": 70
        }
      ]
    },
    {
      "cell_type": "code",
      "metadata": {
        "colab": {
          "base_uri": "https://localhost:8080/",
          "height": 303
        },
        "id": "HVqI4mH8rFqb",
        "outputId": "d1855cab-2c5c-427b-e500-87c4d2454ae1"
      },
      "source": [
        "ytestpred=RFC.predict(x_test)\r\n",
        "ytestpred\r\n",
        "confusion_mat(y_test,ytestpred)\r\n",
        "print(\"  Confusion Matrix of Random Forest Classifier Test Set\")"
      ],
      "execution_count": null,
      "outputs": [
        {
          "output_type": "stream",
          "text": [
            "Accuracy: 0.6701366297983083\n"
          ],
          "name": "stdout"
        },
        {
          "output_type": "display_data",
          "data": {
            "image/png": "[encoded data removed]",
            "text/plain": [
              "<Figure size 288x288 with 1 Axes>"
            ]
          },
          "metadata": {
            "tags": []
          }
        },
        {
          "output_type": "stream",
          "text": [
            "  Confusion Matrix of Random Forest Classifier Test Set\n"
          ],
          "name": "stdout"
        }
      ]
    },
    {
      "cell_type": "code",
      "metadata": {
        "id": "WUXbTgDwRoFx"
      },
      "source": [
        "# confusion_mat(y_train,yn)\r\n",
        "# print(\"  Confusion Matrix of Random Forest Classifier\")"
      ],
      "execution_count": null,
      "outputs": []
    },
    {
      "cell_type": "markdown",
      "metadata": {
        "id": "rfiN1X8PQZo4"
      },
      "source": [
        "### 4.5 Model - XGBoost Classifier"
      ]
    },
    {
      "cell_type": "code",
      "metadata": {
        "id": "0rJQb6dpvqeR"
      },
      "source": [
        "from xgboost import XGBClassifier"
      ],
      "execution_count": null,
      "outputs": []
    },
    {
      "cell_type": "code",
      "metadata": {
        "colab": {
          "base_uri": "https://localhost:8080/"
        },
        "id": "bwEeoowBwn-t",
        "outputId": "b8a1509a-5ac3-4cda-93f7-48d93baf1d69"
      },
      "source": [
        "XGB = XGBClassifier().fit(x_train,y_train)  \r\n",
        "print('accuracy(train)=',XGB.score(x_train, y_train))"
      ],
      "execution_count": null,
      "outputs": [
        {
          "output_type": "stream",
          "text": [
            "accuracy(train)= 0.6697212883635181\n"
          ],
          "name": "stdout"
        }
      ]
    },
    {
      "cell_type": "code",
      "metadata": {
        "id": "qR11Z374ws20"
      },
      "source": [
        "X1n = XGB.predict(x_train)"
      ],
      "execution_count": null,
      "outputs": []
    },
    {
      "cell_type": "code",
      "metadata": {
        "id": "5uPb34zbQl0k"
      },
      "source": [
        "# confusion_mat(y_train,X1n)\r\n",
        "# print(\"  Confusion Matrix of XGBoost Classifier\")"
      ],
      "execution_count": null,
      "outputs": []
    },
    {
      "cell_type": "code",
      "metadata": {
        "colab": {
          "base_uri": "https://localhost:8080/",
          "height": 303
        },
        "id": "sv6grkRWrXPW",
        "outputId": "c51e0a5b-bc67-4625-e939-869e42e17300"
      },
      "source": [
        "ypred = XGB.predict(x_test)\r\n",
        "ypred\r\n",
        "confusion_mat(y_test,ypred)\r\n",
        "print(\"  Confusion Matrix of XGBoost Classifier Test Set\")"
      ],
      "execution_count": null,
      "outputs": [
        {
          "output_type": "stream",
          "text": [
            "Accuracy: 0.6704619388418998\n"
          ],
          "name": "stdout"
        },
        {
          "output_type": "display_data",
          "data": {
            "image/png": "[encoded data removed]",
            "text/plain": [
              "<Figure size 288x288 with 1 Axes>"
            ]
          },
          "metadata": {
            "tags": []
          }
        },
        {
          "output_type": "stream",
          "text": [
            "  Confusion Matrix of XGBoost Classifier Test Set\n"
          ],
          "name": "stdout"
        }
      ]
    },
    {
      "cell_type": "markdown",
      "metadata": {
        "id": "WTGEveH56A9B"
      },
      "source": [
        "My thought behind using XGBoost was the fact that XGBoost performs sequential bagging on incorrect data which is very relevant incase of the given dataset.\r\n",
        "In XGBoost, we fit a model on the gradient of loss generated from the previous step. Hence it is a good model when it comes to a varied unbalanced dataset.\r\n"
      ]
    },
    {
      "cell_type": "markdown",
      "metadata": {
        "id": "nJhvEUqaYMEX"
      },
      "source": [
        "### 4.6. Model Analysis"
      ]
    },
    {
      "cell_type": "code",
      "metadata": {
        "id": "PNPxqi0TzpdQ"
      },
      "source": [
        "from sklearn import metrics\r\n",
        "\r\n",
        "def plot_roc(actuals, predicted_dict):\r\n",
        "\r\n",
        "    plt.title('ROC')\r\n",
        "    plt.plot([0, 1], [0, 1],'r--')\r\n",
        "    plt.xlim([0, 1])\r\n",
        "    plt.ylim([0, 1])\r\n",
        "    plt.ylabel('True Positive Rate')\r\n",
        "    plt.xlabel('False Positive Rate')\r\n",
        "    for key, predicted in predicted_dict.items():\r\n",
        "        fpr, tpr, threshold = metrics.roc_curve(actuals, predicted)\r\n",
        "        roc_auc = metrics.auc(fpr, tpr)\r\n",
        "        plt.plot(fpr, tpr, label = '%25s AUC = %0.3f' % (key, roc_auc))\r\n",
        "    plt.legend(loc = 'lower right')\r\n",
        "    plt.show()"
      ],
      "execution_count": null,
      "outputs": []
    },
    {
      "cell_type": "code",
      "metadata": {
        "colab": {
          "base_uri": "https://localhost:8080/",
          "height": 626
        },
        "id": "JpRnXJcvSSRt",
        "outputId": "7f291089-a339-41b6-f427-134be776b207"
      },
      "source": [
        "LR_p = LR.predict_proba(x_test)[:,1]\r\n",
        "XGB_p = XGB.predict_proba(x_test)[:,1]\r\n",
        "RFC_p = RFC.predict_proba(x_test)[:,1]\r\n",
        "DTC_p=clf.predict_proba(x_test)[:,1]\r\n",
        "plot_roc(y_test, {'Decision Tree': DTC_p,\"Logistic Reg\": LR_p,'RandomForest': RFC_p,'XGboosting':XGB_p})"
      ],
      "execution_count": null,
      "outputs": [
        {
          "output_type": "display_data",
          "data": {
            "image/png": "[encoded data removed]",
            "text/plain": [
              "<Figure size 720x720 with 1 Axes>"
            ]
          },
          "metadata": {
            "tags": []
          }
        }
      ]
    },
    {
      "cell_type": "markdown",
      "metadata": {
        "id": "qrjzipthztvu"
      },
      "source": [
        "## Model Analysis\r\n"
      ]
    },
    {
      "cell_type": "markdown",
      "metadata": {
        "id": "iHZUz_Edyo1Q"
      },
      "source": [
        "Here XGBoost has the an relatively high accuracy in predicting fraud transactions for the test_set compared to the previous models.\r\n",
        "Random forests are bagged decision tree models that split on a subset of features on each split instead of using all the features at once.\r\n",
        "This helps in determining the best step forward at each iteration"
      ]
    },
    {
      "cell_type": "markdown",
      "metadata": {
        "id": "4ATpT7bYlhD_"
      },
      "source": [
        "Amongst all the models **XGBoost Classifier** has the best Area under Curve and therefore is the best model for analysing and predicting the fraud transactions.\r\n",
        "\r\n",
        "However **Random Forest Classifier** also has reasonably similar test accuracy and AUC. Hence even Random Forest Classifier can be considered as a good choice for predicting the fraud transactions \r\n",
        "\r\n",
        "\r\n",
        "**Test Data Accuracies:**\r\n",
        "\r\n",
        "1.   Support Vector Classifier   : **0.5657**\r\n",
        "2.   Decision Tree Classifier : **0.5725**\r\n",
        "3.   Logistic Regression      : **0.6434**\r\n",
        "4.   Random Forest Classifier : **0.6701**\r\n",
        "4.   XGBoost Classifier       : **0.6704**\r\n",
        "\r\n",
        "\r\n",
        "Based upon the AUC and above Confusion Matrix the choice of models for the Fraud prediction is as follows:"
      ]
    },
    {
      "cell_type": "markdown",
      "metadata": {
        "id": "s51UhZRpzzq2"
      },
      "source": [
        "## XGBoost >= Random Forest > Logistic Regression > Decision Tree > SVC"
      ]
    },
    {
      "cell_type": "markdown",
      "metadata": {
        "id": "M5iyzYuD_hq6"
      },
      "source": [
        "The model accuracies can be improved with feature engineering and tuning the hyperparameters in future\r\n",
        "\r\n",
        "Also we can use F1 score, rms error asa metric to evaluate."
      ]
    }
  ]
}